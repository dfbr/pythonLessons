{
  "metadata": {
    "kernelspec": {
      "name": "python",
      "display_name": "Python (Pyodide)",
      "language": "python"
    },
    "language_info": {
      "codemirror_mode": {
        "name": "python",
        "version": 3
      },
      "file_extension": ".py",
      "mimetype": "text/x-python",
      "name": "python",
      "nbconvert_exporter": "python",
      "pygments_lexer": "ipython3",
      "version": "3.8"
    }
  },
  "nbformat_minor": 4,
  "nbformat": 4,
  "cells": [
    {
      "cell_type": "code",
      "source": "\"\"\"\nA script to show the user the current time.\n\nAuthor: Matthew Pitkin\nEmail: m.pitkin@lancaster.ac.uk\nDate: 22/06/2020\n\"\"\"\n\n# import the required modules\nimport datetime\n\n\ndef gettime():\n    \"\"\"\n    A function to return the current time.\n\n    Returns\n    -------\n    tuple:\n        A tuple containing the hour, minutes and seconds.\n    \"\"\"\n\n    now = datetime.datetime.now()\n\n    return now.hour, now.minute, now.second + 1e-6 * now.microsecond\n\n# get the time\nhour, minute, seconds = gettime()\n\nprint(f\"The current time is {hour}:{minute}:{seconds}\")",
      "metadata": {
        "trusted": true
      },
      "outputs": [],
      "execution_count": null
    }
  ]
}