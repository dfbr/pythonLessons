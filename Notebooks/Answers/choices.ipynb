{
 "cells": [
  {
   "cell_type": "markdown",
   "metadata": {},
   "source": [
    "# Making choices in Python\n",
    "\n",
    "We use the keywords `if`, `elif` and `else` to make choices based on a **condition** that is either `True` or `False`. The general syntax is:\n",
    "\n",
    "```\n",
    "if condition1:\n",
    "    do this\n",
    "    and this\n",
    "elif condition2:\n",
    "    do this instead\n",
    "else:\n",
    "    do this\n",
    "```\n",
    "\n",
    "Only the `if` part is mandatory, all `elif`s and `else` parts are optional."
   ]
  },
  {
   "cell_type": "code",
   "execution_count": 1,
   "metadata": {},
   "outputs": [
    {
     "name": "stdout",
     "output_type": "stream",
     "text": [
      "The condition evaluated to True\n"
     ]
    }
   ],
   "source": [
    "# first lets set a boolean variable to be our condition\n",
    "# a boolean variable contains either the value True or False. \n",
    "myBooleanVariable = True\n",
    "\n",
    "# now can we make decisions based on myBooleanVariable?\n",
    "if myBooleanVariable:\n",
    "    print(\"The condition evaluated to True\")"
   ]
  },
  {
   "cell_type": "code",
   "execution_count": 2,
   "metadata": {},
   "outputs": [
    {
     "name": "stdout",
     "output_type": "stream",
     "text": [
      "The condition evaluated to False\n"
     ]
    }
   ],
   "source": [
    "# now a fall back option with \"else\"\n",
    "myBooleanVariable = False\n",
    "if myBooleanVariable:\n",
    "    print(\"The condition evaluated to True\")\n",
    "else:\n",
    "    print(\"The condition evaluated to False\")"
   ]
  },
  {
   "cell_type": "code",
   "execution_count": 3,
   "metadata": {},
   "outputs": [
    {
     "name": "stdout",
     "output_type": "stream",
     "text": [
      "The first condition evaluated to True\n"
     ]
    }
   ],
   "source": [
    "# now let's add a second option with \"elif\"\n",
    "myBooleanVariable = \"Yellow\"\n",
    "if myBooleanVariable:\n",
    "    print(\"The first condition evaluated to True\")\n",
    "elif myBooleanVariable == False: \n",
    "    print(\"The second condition evaluated to True\")\n",
    "else:\n",
    "    print(\"Neither of the conditions evaluated to True\")"
   ]
  },
  {
   "cell_type": "markdown",
   "metadata": {},
   "source": [
    "## What happened above and how can you fix it?\n",
    "\n",
    "Python considers strings that are not empty to be `True` so \"Yellow\" evaluates to `True`\n",
    "\n",
    "A similar thing is true with numbers: a number that isn't `0` will evaluate to `True`.\n",
    "\n",
    "You can make the check explicit by making the condition `myVariable == True` instead."
   ]
  },
  {
   "cell_type": "code",
   "execution_count": 4,
   "metadata": {},
   "outputs": [
    {
     "name": "stdout",
     "output_type": "stream",
     "text": [
      "Neither condition was met\n"
     ]
    }
   ],
   "source": [
    "# write code to print \"Neither of the conditions evaluated to True\" when myBooleanVariable is set to \"Yellow\"\n",
    "\n",
    "if myBooleanVariable == True:\n",
    "    print(\"Condition was true\")\n",
    "elif myBooleanVariable == False:\n",
    "    print(\"Second condition was met\")\n",
    "else:\n",
    "    print(\"Neither condition was met\")"
   ]
  },
  {
   "cell_type": "markdown",
   "metadata": {},
   "source": [
    "The conditions don't just need to be simple True and False and you don't simply need to print some output...\n",
    "\n",
    "We can do any action we are capable of programming in the `if`, `elif` and `else` sections of code.\n",
    "\n",
    "We can use any condition that ultimately evaluates to True or False."
   ]
  },
  {
   "cell_type": "code",
   "execution_count": 16,
   "metadata": {},
   "outputs": [
    {
     "name": "stdout",
     "output_type": "stream",
     "text": [
      "Volume is set to 60\n"
     ]
    }
   ],
   "source": [
    "# first lets set a variable called percentVolume\n",
    "percentageVolume = 60\n",
    "print(f\"Volume is set to {percentageVolume}\")"
   ]
  },
  {
   "cell_type": "code",
   "execution_count": 17,
   "metadata": {},
   "outputs": [
    {
     "name": "stdout",
     "output_type": "stream",
     "text": [
      "Turn it down!\n"
     ]
    }
   ],
   "source": [
    "# now we can use an if statement to do _something_ with the volume.\n",
    "if percentageVolume > 50:\n",
    "    print(\"Turn it down!\")\n"
   ]
  },
  {
   "cell_type": "markdown",
   "metadata": {},
   "source": [
    "Use the cell above as a template but add a statement to lower the percentageVolume by 1 each time the cell is run.\n",
    "\n",
    "Print the volume as well so you know what it is set to."
   ]
  },
  {
   "cell_type": "code",
   "execution_count": 18,
   "metadata": {},
   "outputs": [
    {
     "name": "stdout",
     "output_type": "stream",
     "text": [
      "Volume set to 59\n"
     ]
    }
   ],
   "source": [
    "# put your answer here and run it until it is not too loud.\n",
    "if percentageVolume > 50:\n",
    "    percentageVolume -= 1\n",
    "print(f\"Volume set to {percentageVolume}\")"
   ]
  },
  {
   "cell_type": "markdown",
   "metadata": {},
   "source": [
    "## Now let's get more clever..."
   ]
  },
  {
   "cell_type": "code",
   "execution_count": 31,
   "metadata": {},
   "outputs": [
    {
     "name": "stdout",
     "output_type": "stream",
     "text": [
      "Volume is set at 58.\n"
     ]
    }
   ],
   "source": [
    "# first, we set the volume to a random number...\n",
    "from random import randrange            # this imports someone else's code that we can use to get a random number\n",
    "percentageVolume = randrange(100)       # this sets percentageVolume to a random number upto 100\n",
    "print(f\"Volume is set at {percentageVolume}.\")"
   ]
  },
  {
   "cell_type": "markdown",
   "metadata": {},
   "source": [
    "Now write your own `if`, `elif` and `else` combined statement code to manage the volume:\n",
    "- Turn it up by 1 if it's less than 50\n",
    "- Turn it down by one if it's over 50\n",
    "- Print a statement to tell us it's right if it is set to 50\n",
    "\n",
    "Run the cell until the volume is just right."
   ]
  },
  {
   "cell_type": "code",
   "execution_count": 32,
   "metadata": {},
   "outputs": [
    {
     "name": "stdout",
     "output_type": "stream",
     "text": [
      "Volume was too loud so I turned it down to 57\n"
     ]
    }
   ],
   "source": [
    "if percentageVolume > 50:\n",
    "    percentageVolume -= 1\n",
    "    print(f\"Volume was too loud so I turned it down to {percentageVolume}\")\n",
    "elif percentageVolume < 50:\n",
    "    percentageVolume += 1\n",
    "    print(f\"Volume was too quite so I turned it up to {percentageVolume}\")\n",
    "else:\n",
    "    print(f\"Volume is just right. It's at {percentageVolume}\")"
   ]
  }
 ],
 "metadata": {
  "kernelspec": {
   "display_name": "Python 3",
   "language": "python",
   "name": "python3"
  },
  "language_info": {
   "codemirror_mode": {
    "name": "ipython",
    "version": 3
   },
   "file_extension": ".py",
   "mimetype": "text/x-python",
   "name": "python",
   "nbconvert_exporter": "python",
   "pygments_lexer": "ipython3",
   "version": "3.10.8"
  }
 },
 "nbformat": 4,
 "nbformat_minor": 2
}
