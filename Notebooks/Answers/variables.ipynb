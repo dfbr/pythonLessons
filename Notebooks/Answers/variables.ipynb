{
 "cells": [
  {
   "cell_type": "code",
   "execution_count": 1,
   "metadata": {},
   "outputs": [],
   "source": [
    "%%script python\n",
    "\n",
    "# the sentences below are not variables. Running this cell doesn't do anything\n",
    "\"This is a string.\"\n",
    "\"This is another string.\""
   ]
  },
  {
   "cell_type": "code",
   "execution_count": 2,
   "metadata": {},
   "outputs": [],
   "source": [
    "# this assigns the sentence to the variable \"firstSentence\"\n",
    "firstString = \"This is a string.\"\n",
    "secondString = \"This is another string.\"\n",
    "\n",
    "# running this cell appears to do nothing. What is the Python interpreter doing?"
   ]
  },
  {
   "cell_type": "code",
   "execution_count": 3,
   "metadata": {},
   "outputs": [
    {
     "data": {
      "text/plain": [
       "'This is a string.'"
      ]
     },
     "execution_count": 3,
     "metadata": {},
     "output_type": "execute_result"
    }
   ],
   "source": [
    "# we can now use the variable in the rest of our script\n",
    "\n",
    "# if we put it in the cell, it will output the value of the variable\n",
    "firstString"
   ]
  },
  {
   "cell_type": "code",
   "execution_count": 4,
   "metadata": {},
   "outputs": [],
   "source": [
    "# what else can we do with the variables?\n",
    "\n",
    "#add them?\n",
    "thirdString = firstString + secondString\n"
   ]
  },
  {
   "cell_type": "code",
   "execution_count": 5,
   "metadata": {},
   "outputs": [
    {
     "data": {
      "text/plain": [
       "'This is a string.This is another string.'"
      ]
     },
     "execution_count": 5,
     "metadata": {},
     "output_type": "execute_result"
    }
   ],
   "source": [
    "# how would you see what the value of thirdString is now?\n",
    "\n",
    "thirdString\n"
   ]
  },
  {
   "cell_type": "code",
   "execution_count": 6,
   "metadata": {},
   "outputs": [
    {
     "data": {
      "text/plain": [
       "-7.5"
      ]
     },
     "execution_count": 6,
     "metadata": {},
     "output_type": "execute_result"
    }
   ],
   "source": [
    "# what else can be stored in a variable?\n",
    "\n",
    "# numbers?\n",
    "myFavouriteNumber = 12\n",
    "myFavouriteNonInteger = 4.5\n",
    "\n",
    "# can I do maths with these?\n",
    "myFavouriteNonInteger - myFavouriteNumber"
   ]
  },
  {
   "cell_type": "code",
   "execution_count": 7,
   "metadata": {},
   "outputs": [
    {
     "data": {
      "text/plain": [
       "54.0"
      ]
     },
     "execution_count": 7,
     "metadata": {},
     "output_type": "execute_result"
    }
   ],
   "source": [
    "# can you multiply myFavouriteNonInteger by myFavouriteNumber? How?\n",
    "myFavouriteNonInteger * myFavouriteNumber"
   ]
  },
  {
   "cell_type": "code",
   "execution_count": 8,
   "metadata": {},
   "outputs": [
    {
     "name": "stdout",
     "output_type": "stream",
     "text": [
      "2024-08-26\n"
     ]
    }
   ],
   "source": [
    "# Can we store a date?\n",
    "import datetime                 # This imports someone else's code. We'll cover this later in the course\n",
    "today = datetime.date.today()   # Here we use the other person's code. Again, we'll talk about this later in the course\n",
    "print(today)                    # This uses the \"print\" function. You'll try this soon :)"
   ]
  },
  {
   "cell_type": "code",
   "execution_count": 9,
   "metadata": {},
   "outputs": [],
   "source": [
    "# try assigning a variable here with a variable name you make up. The value of the variable should be your name.\n",
    "myVariable = \"Dave\""
   ]
  },
  {
   "cell_type": "code",
   "execution_count": 10,
   "metadata": {},
   "outputs": [
    {
     "name": "stdout",
     "output_type": "stream",
     "text": [
      "Hello, Dave!\n"
     ]
    }
   ],
   "source": [
    "# now let's use it. Change \"YOURVARIABLENAMEHERE\" to the name of your variable and run the cell\n",
    "print(f\"Hello, {myVariable}!\")"
   ]
  },
  {
   "cell_type": "code",
   "execution_count": 11,
   "metadata": {},
   "outputs": [
    {
     "name": "stdout",
     "output_type": "stream",
     "text": [
      "Goodbye, Dave!\n"
     ]
    }
   ],
   "source": [
    "# can you use print to say goodbye to yourself?\n",
    "print(f\"Goodbye, {myVariable}!\")"
   ]
  },
  {
   "cell_type": "code",
   "execution_count": 13,
   "metadata": {},
   "outputs": [
    {
     "name": "stdout",
     "output_type": "stream",
     "text": [
      "myvariable is: 'HELP!'\n",
      "MYVARIABLE is: 'help!'\n"
     ]
    },
    {
     "ename": "NameError",
     "evalue": "name 'nonExistant' is not defined",
     "output_type": "error",
     "traceback": [
      "\u001b[1;31m---------------------------------------------------------------------------\u001b[0m",
      "\u001b[1;31mNameError\u001b[0m                                 Traceback (most recent call last)",
      "Cell \u001b[1;32mIn[13], line 7\u001b[0m\n\u001b[0;32m      5\u001b[0m \u001b[38;5;28mprint\u001b[39m(\u001b[38;5;124mf\u001b[39m\u001b[38;5;124m\"\u001b[39m\u001b[38;5;124mmyvariable is: \u001b[39m\u001b[38;5;124m'\u001b[39m\u001b[38;5;132;01m{\u001b[39;00mmyvariable\u001b[38;5;132;01m}\u001b[39;00m\u001b[38;5;124m'\u001b[39m\u001b[38;5;124m\"\u001b[39m)\n\u001b[0;32m      6\u001b[0m \u001b[38;5;28mprint\u001b[39m(\u001b[38;5;124mf\u001b[39m\u001b[38;5;124m\"\u001b[39m\u001b[38;5;124mMYVARIABLE is: \u001b[39m\u001b[38;5;124m'\u001b[39m\u001b[38;5;132;01m{\u001b[39;00mMYVARIABLE\u001b[38;5;132;01m}\u001b[39;00m\u001b[38;5;124m'\u001b[39m\u001b[38;5;124m\"\u001b[39m)\n\u001b[1;32m----> 7\u001b[0m \u001b[38;5;28mprint\u001b[39m(\u001b[38;5;124mf\u001b[39m\u001b[38;5;124m\"\u001b[39m\u001b[38;5;124mnonExistant doesn\u001b[39m\u001b[38;5;124m'\u001b[39m\u001b[38;5;124mt exist so we get an error when we try to print it: \u001b[39m\u001b[38;5;132;01m{\u001b[39;00m\u001b[43mnonExistant\u001b[49m\u001b[38;5;132;01m}\u001b[39;00m\u001b[38;5;124m\"\u001b[39m)\n",
      "\u001b[1;31mNameError\u001b[0m: name 'nonExistant' is not defined"
     ]
    }
   ],
   "source": [
    "# remember variable names are case sensitive. These are two different variables\n",
    "myvariable = \"HELP!\"\n",
    "MYVARIABLE = \"help!\"\n",
    "\n",
    "print(f\"myvariable is: '{myvariable}'\")\n",
    "print(f\"MYVARIABLE is: '{MYVARIABLE}'\")\n",
    "print(f\"nonExistant doesn't exist so we get an error when we try to print it: {nonExistant}\")"
   ]
  },
  {
   "cell_type": "code",
   "execution_count": 14,
   "metadata": {},
   "outputs": [],
   "source": [
    "# what happens if we call a variable the name of a function\n",
    "print = \"I don't have a printer\""
   ]
  },
  {
   "cell_type": "code",
   "execution_count": 15,
   "metadata": {},
   "outputs": [
    {
     "data": {
      "text/plain": [
       "\"I don't have a printer\""
      ]
     },
     "execution_count": 15,
     "metadata": {},
     "output_type": "execute_result"
    }
   ],
   "source": [
    "# can you now use the variable?\n",
    "print"
   ]
  },
  {
   "cell_type": "code",
   "execution_count": 16,
   "metadata": {},
   "outputs": [
    {
     "ename": "TypeError",
     "evalue": "'str' object is not callable",
     "output_type": "error",
     "traceback": [
      "\u001b[1;31m---------------------------------------------------------------------------\u001b[0m",
      "\u001b[1;31mTypeError\u001b[0m                                 Traceback (most recent call last)",
      "Cell \u001b[1;32mIn[16], line 2\u001b[0m\n\u001b[0;32m      1\u001b[0m \u001b[38;5;66;03m# can you use the function? (try using print to print your name)\u001b[39;00m\n\u001b[1;32m----> 2\u001b[0m \u001b[38;5;28;43mprint\u001b[39;49m\u001b[43m(\u001b[49m\u001b[38;5;28;43mprint\u001b[39;49m\u001b[43m)\u001b[49m\n",
      "\u001b[1;31mTypeError\u001b[0m: 'str' object is not callable"
     ]
    }
   ],
   "source": [
    "# can you use the function? (try using print to print your name)\n",
    "print(print)"
   ]
  },
  {
   "cell_type": "code",
   "execution_count": 18,
   "metadata": {},
   "outputs": [
    {
     "ename": "SyntaxError",
     "evalue": "invalid syntax (689675460.py, line 6)",
     "output_type": "error",
     "traceback": [
      "\u001b[1;36m  Cell \u001b[1;32mIn[18], line 6\u001b[1;36m\u001b[0m\n\u001b[1;33m    break = 4\u001b[0m\n\u001b[1;37m          ^\u001b[0m\n\u001b[1;31mSyntaxError\u001b[0m\u001b[1;31m:\u001b[0m invalid syntax\n"
     ]
    }
   ],
   "source": [
    "# what about a variable with the same name as a reserved word?\n",
    "# you can find the list of reserved words at: https://www.w3schools.com/python/python_ref_keywords.asp\n",
    "\n",
    "# pick one and try using it as a variable name\n",
    "\n",
    "break = 4\n"
   ]
  },
  {
   "cell_type": "markdown",
   "metadata": {},
   "source": [
    "Every variable in Python has a *type*. This is how Python knows what you can do with it.\n",
    "\n",
    "Common types that we will be using are:\n",
    "- Integers (*int*)\n",
    "  - Whole numbers\n",
    "- Floats (*float*)\n",
    "  - Numbers with a decimal part\n",
    "- Strings (*str*)\n",
    "  - Text made up of letters and numbers etc.\n",
    "- Booleans (*bool*)\n",
    "  - The values `True` and `False`\n",
    "\n",
    "There are many other types of variables in Python and you can even make up your own.\n",
    "\n",
    "To find out what `type` a variable is, use the function `type(variableThatYouWantToKnowTheTypeOf)`"
   ]
  },
  {
   "cell_type": "code",
   "execution_count": 21,
   "metadata": {},
   "outputs": [
    {
     "data": {
      "text/plain": [
       "str"
      ]
     },
     "execution_count": 21,
     "metadata": {},
     "output_type": "execute_result"
    }
   ],
   "source": [
    "# put different variable types in the function and see what the output is. Try it with each of the variable types mentioned above.\n",
    "type(5.35)\n",
    "type(True)\n",
    "type(4)\n",
    "type(\"I am a string!\")"
   ]
  },
  {
   "cell_type": "code",
   "execution_count": null,
   "metadata": {},
   "outputs": [],
   "source": [
    "# The type of the variable defines what you can do with it. For example, it doesn't make sense to add a string and an integer so this produces an error."
   ]
  },
  {
   "cell_type": "code",
   "execution_count": 22,
   "metadata": {},
   "outputs": [
    {
     "ename": "TypeError",
     "evalue": "can only concatenate str (not \"int\") to str",
     "output_type": "error",
     "traceback": [
      "\u001b[1;31m---------------------------------------------------------------------------\u001b[0m",
      "\u001b[1;31mTypeError\u001b[0m                                 Traceback (most recent call last)",
      "Cell \u001b[1;32mIn[22], line 3\u001b[0m\n\u001b[0;32m      1\u001b[0m myString \u001b[38;5;241m=\u001b[39m \u001b[38;5;124m\"\u001b[39m\u001b[38;5;124mMy favourite number is: \u001b[39m\u001b[38;5;124m\"\u001b[39m\n\u001b[0;32m      2\u001b[0m myFavouriteNumber \u001b[38;5;241m=\u001b[39m \u001b[38;5;241m4\u001b[39m\n\u001b[1;32m----> 3\u001b[0m \u001b[43mmyString\u001b[49m\u001b[43m \u001b[49m\u001b[38;5;241;43m+\u001b[39;49m\u001b[43m \u001b[49m\u001b[43mmyFavouriteNumber\u001b[49m\n",
      "\u001b[1;31mTypeError\u001b[0m: can only concatenate str (not \"int\") to str"
     ]
    }
   ],
   "source": [
    "myString = \"My favourite number is: \"\n",
    "myFavouriteNumber = 4\n",
    "myString + myFavouriteNumber"
   ]
  },
  {
   "cell_type": "markdown",
   "metadata": {},
   "source": [
    "For some types, we can temporarily tell Python to treat them as another type. This is useful in the example above..."
   ]
  },
  {
   "cell_type": "code",
   "execution_count": 23,
   "metadata": {},
   "outputs": [
    {
     "data": {
      "text/plain": [
       "'My favourite number is: 4'"
      ]
     },
     "execution_count": 23,
     "metadata": {},
     "output_type": "execute_result"
    }
   ],
   "source": [
    "myString + str(myFavouriteNumber)"
   ]
  },
  {
   "cell_type": "code",
   "execution_count": 24,
   "metadata": {},
   "outputs": [
    {
     "data": {
      "text/plain": [
       "int"
      ]
     },
     "execution_count": 24,
     "metadata": {},
     "output_type": "execute_result"
    }
   ],
   "source": [
    "# by myFavouriteNumber is still an integer\n",
    "type(myFavouriteNumber)"
   ]
  },
  {
   "cell_type": "markdown",
   "metadata": {},
   "source": [
    "We won't be using this sort of conversion but it can be useful to know it exists."
   ]
  }
 ],
 "metadata": {
  "kernelspec": {
   "display_name": "Python 3",
   "language": "python",
   "name": "python3"
  },
  "language_info": {
   "codemirror_mode": {
    "name": "ipython",
    "version": 3
   },
   "file_extension": ".py",
   "mimetype": "text/x-python",
   "name": "python",
   "nbconvert_exporter": "python",
   "pygments_lexer": "ipython3",
   "version": "3.10.8"
  }
 },
 "nbformat": 4,
 "nbformat_minor": 2
}
