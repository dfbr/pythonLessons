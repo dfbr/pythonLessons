{
 "cells": [
  {
   "cell_type": "code",
   "execution_count": 11,
   "metadata": {},
   "outputs": [],
   "source": [
    "# define a dictionary describing yourself (or a fictional version)\n",
    "mySelf = {\"firstName\": \"David\",\n",
    "          \"lastName\": \"Rowan\",\n",
    "          \"age\": 43,\n",
    "          \"hairColour\": \"brown\",\n",
    "          \"height\": 176}\n"
   ]
  },
  {
   "cell_type": "code",
   "execution_count": 3,
   "metadata": {},
   "outputs": [
    {
     "name": "stdout",
     "output_type": "stream",
     "text": [
      "My height is 176\n"
     ]
    }
   ],
   "source": [
    "# to access the value of a key you use square brackets\n",
    "print(f\"My height is {mySelf['height']}\")"
   ]
  },
  {
   "cell_type": "code",
   "execution_count": 4,
   "metadata": {},
   "outputs": [
    {
     "name": "stdout",
     "output_type": "stream",
     "text": [
      "Rowan\n"
     ]
    }
   ],
   "source": [
    "# print out your last name\n",
    "print(mySelf['lastName'])"
   ]
  },
  {
   "cell_type": "code",
   "execution_count": 5,
   "metadata": {},
   "outputs": [],
   "source": [
    "# You decide to colour your hair. Change the value to your new colour.\n",
    "mySelf['hairColour'] = \"Rainbow\""
   ]
  },
  {
   "cell_type": "code",
   "execution_count": 6,
   "metadata": {},
   "outputs": [],
   "source": [
    "# How would you add a new key with the value of your favourite food?\n",
    "mySelf['favouriteFood'] = \"Fish and chips\""
   ]
  },
  {
   "cell_type": "code",
   "execution_count": 7,
   "metadata": {},
   "outputs": [],
   "source": [
    "# If you have more than one favourite foods, how could you store them all in your dictionary?\n",
    "mySelf['favouriteFood'] = [\"Fish and chips\", \"Spaghetti\"]"
   ]
  },
  {
   "cell_type": "code",
   "execution_count": 12,
   "metadata": {},
   "outputs": [
    {
     "name": "stdout",
     "output_type": "stream",
     "text": [
      "{'firstName': 'David', 'lastName': 'Rowan', 'age': 43, 'hairColour': 'brown', 'height': 176}\n",
      "{'firstName': 'David', 'lastName': 'Rowan', 'hairColour': 'brown', 'height': 176}\n"
     ]
    }
   ],
   "source": [
    "# We no longer want to store ages. How do you remove the age the dictionary?\n",
    "print(mySelf)\n",
    "mySelf.pop('age')\n",
    "print(mySelf)"
   ]
  },
  {
   "cell_type": "code",
   "execution_count": 13,
   "metadata": {},
   "outputs": [
    {
     "name": "stdout",
     "output_type": "stream",
     "text": [
      "My name is David Rowan, I have brown hair and am 176cm call\n"
     ]
    }
   ],
   "source": [
    "# how would you print out details about yourself?\n",
    "print(f\"My name is {mySelf['firstName']} {mySelf['lastName']}, I have {mySelf['hairColour']} hair and am {mySelf['height']}cm call\")"
   ]
  }
 ],
 "metadata": {
  "kernelspec": {
   "display_name": "Python 3",
   "language": "python",
   "name": "python3"
  },
  "language_info": {
   "codemirror_mode": {
    "name": "ipython",
    "version": 3
   },
   "file_extension": ".py",
   "mimetype": "text/x-python",
   "name": "python",
   "nbconvert_exporter": "python",
   "pygments_lexer": "ipython3",
   "version": "3.10.8"
  }
 },
 "nbformat": 4,
 "nbformat_minor": 2
}
