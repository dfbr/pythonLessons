{
 "cells": [
  {
   "cell_type": "markdown",
   "metadata": {},
   "source": [
    "# Dictionaries\n",
    "\n",
    "Dictionaries collect together values that belong together. \n",
    "\n",
    "The general syntax is:\n",
    "\n",
    "```\n",
    "dictionaryName = {\"key1\": \"value1\",\n",
    "                  \"key2\": \"value2\",\n",
    "                  ...,\n",
    "                  \"keyN\": \"valueN\"}\n",
    "```\n",
    "\n",
    "The names of the properties are called the `keys` and the value of each property is called the `value`."
   ]
  },
  {
   "cell_type": "markdown",
   "metadata": {},
   "source": [
    "Create your own dictionary..."
   ]
  },
  {
   "cell_type": "code",
   "execution_count": 21,
   "metadata": {},
   "outputs": [],
   "source": [
    "# edit this definition to describe yourself (or a fictional version of yourself)\n",
    "mySelf = {\"firstName\": \"David\",\n",
    "          \"lastName\": \"Rowan\",\n",
    "          \"age\": 43,\n",
    "          \"hairColour\": \"brown\",\n",
    "          \"height\": 176}\n"
   ]
  },
  {
   "cell_type": "markdown",
   "metadata": {},
   "source": [
    "You access the value of a key you use square brackets with the name of the key inside them, e.g.: `mySelf['firstName']`"
   ]
  },
  {
   "cell_type": "code",
   "execution_count": 22,
   "metadata": {},
   "outputs": [
    {
     "name": "stdout",
     "output_type": "stream",
     "text": [
      "My height is 176\n"
     ]
    }
   ],
   "source": [
    "# to access the value of a key you use square brackets\n",
    "print(f\"My height is {mySelf['height']}\")"
   ]
  },
  {
   "cell_type": "code",
   "execution_count": 14,
   "metadata": {},
   "outputs": [
    {
     "name": "stdout",
     "output_type": "stream",
     "text": [
      "My last name is Rowan\n"
     ]
    }
   ],
   "source": [
    "# try printing your last name\n",
    "print(f\"My last name is {mySelf['lastName']}\")"
   ]
  },
  {
   "cell_type": "markdown",
   "metadata": {},
   "source": [
    "Just like other variables, you can assign a new value to a key."
   ]
  },
  {
   "cell_type": "code",
   "execution_count": 15,
   "metadata": {},
   "outputs": [
    {
     "name": "stdout",
     "output_type": "stream",
     "text": [
      "My hair colour is now purple\n"
     ]
    }
   ],
   "source": [
    "# You decide to colour your hair. Change the value to your new colour.\n",
    "mySelf['hairColour'] = \"purple\"\n",
    "print(f\"My hair colour is now {mySelf['hairColour']}\")"
   ]
  },
  {
   "cell_type": "markdown",
   "metadata": {},
   "source": [
    "You can also add new keys to an object just as if it was a new variable, e.g.: `mySelf['pet'] = \"dog\"`"
   ]
  },
  {
   "cell_type": "code",
   "execution_count": 16,
   "metadata": {},
   "outputs": [
    {
     "name": "stdout",
     "output_type": "stream",
     "text": [
      "My favourite food is a cheese sandwich\n"
     ]
    }
   ],
   "source": [
    "# add a new key with the value of your favourite food\n",
    "mySelf['favouriteFood'] = \"cheese sandwich\"\n",
    "print(f\"My favourite food is a {mySelf['favouriteFood']}\")"
   ]
  },
  {
   "cell_type": "code",
   "execution_count": 17,
   "metadata": {},
   "outputs": [
    {
     "name": "stdout",
     "output_type": "stream",
     "text": [
      "My favourite foods are: ['cheese sandwich', 'fish and chips', 'ice cream']\n"
     ]
    }
   ],
   "source": [
    "# If you have more than one favourite foods, how could you store them all in your dictionary?\n",
    "mySelf['favouriteFood'] = ['cheese sandwich', 'fish and chips', 'ice cream']\n",
    "print(f\"My favourite foods are: {mySelf['favouriteFood']}\")"
   ]
  },
  {
   "cell_type": "markdown",
   "metadata": {},
   "source": [
    "It's possible to remove keys from a dictionary in a few different ways...\n",
    "\n",
    "`del mySelf['pet']`\n",
    "\n",
    "or\n",
    "\n",
    "`mySelf.pop('hairColour')`\n"
   ]
  },
  {
   "cell_type": "code",
   "execution_count": 18,
   "metadata": {},
   "outputs": [
    {
     "data": {
      "text/plain": [
       "43"
      ]
     },
     "execution_count": 18,
     "metadata": {},
     "output_type": "execute_result"
    }
   ],
   "source": [
    "# We no longer want to store ages. Remove your age from the dictionary\n",
    "mySelf.pop('age')\n"
   ]
  },
  {
   "cell_type": "code",
   "execution_count": 19,
   "metadata": {},
   "outputs": [
    {
     "name": "stdout",
     "output_type": "stream",
     "text": [
      "{'firstName': 'David', 'lastName': 'Rowan', 'hairColour': 'purple', 'height': 176, 'favouriteFood': ['cheese sandwich', 'fish and chips', 'ice cream']}\n"
     ]
    }
   ],
   "source": [
    "# how would you print out details about yourself?\n",
    "print(mySelf)"
   ]
  },
  {
   "cell_type": "markdown",
   "metadata": {},
   "source": [
    "Which keys do I have in my dictionary?\n",
    "\n",
    "To list the keys that exist in a dictionary, you use the `.keys()` method."
   ]
  },
  {
   "cell_type": "code",
   "execution_count": 25,
   "metadata": {},
   "outputs": [
    {
     "data": {
      "text/plain": [
       "dict_keys(['firstName', 'lastName', 'age', 'hairColour', 'height'])"
      ]
     },
     "execution_count": 25,
     "metadata": {},
     "output_type": "execute_result"
    }
   ],
   "source": [
    "# list all of the keys in the mySelf dictionary\n",
    "mySelf.keys()"
   ]
  }
 ],
 "metadata": {
  "kernelspec": {
   "display_name": "Python 3",
   "language": "python",
   "name": "python3"
  },
  "language_info": {
   "codemirror_mode": {
    "name": "ipython",
    "version": 3
   },
   "file_extension": ".py",
   "mimetype": "text/x-python",
   "name": "python",
   "nbconvert_exporter": "python",
   "pygments_lexer": "ipython3",
   "version": "3.10.8"
  }
 },
 "nbformat": 4,
 "nbformat_minor": 2
}
