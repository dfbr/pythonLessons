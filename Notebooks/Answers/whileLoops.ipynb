{
 "cells": [
  {
   "cell_type": "markdown",
   "metadata": {},
   "source": [
    "# While loops\n",
    "\n",
    "The basic syntax of a `while` loop is:\n",
    "\n",
    "```python\n",
    "while condition:\n",
    "    do this\n",
    "```\n",
    "\n",
    "When the condition is no longer True, we carry on with our script."
   ]
  },
  {
   "cell_type": "code",
   "execution_count": null,
   "metadata": {},
   "outputs": [],
   "source": [
    "volume = 55\n",
    "\n",
    "while volume > 50:\n",
    "    print(f\"It's too loud at {volume}. Turn it down\")\n",
    "    volume -= 1\n",
    "print(\"The condition is no longer true, we continue with our script\")"
   ]
  },
  {
   "cell_type": "markdown",
   "metadata": {},
   "source": [
    "## Try it yourself\n",
    "\n",
    "In the cell below, construct a while loop that:\n",
    "- tests to see if there are more than 10 items in myList \n",
    "  - use `len(myList)` to find out how many items are in the list\n",
    "- if there are not, adds another item\n",
    "  - use `myList.append(\"new item at the end\")` to add an item at the end of the list\n",
    "- when the loop is exited (the condition is met), print the list"
   ]
  },
  {
   "cell_type": "code",
   "execution_count": null,
   "metadata": {},
   "outputs": [],
   "source": [
    "myList = [1, 2, \"banana\", True]\n",
    "\n",
    "\n",
    "# add your while loop here\n",
    "while len(myList) < 10:\n",
    "    print(f\"myList contains {len(myList)} elements\")\n",
    "    myList.append(\"another fruit\")\n",
    "\n",
    "\n",
    "print(f\"myList contains {len(myList)} elements\")\n",
    "print(myList)"
   ]
  },
  {
   "cell_type": "markdown",
   "metadata": {},
   "source": [
    "We can also use a while loop to do something forever. What condition would you use for this?"
   ]
  },
  {
   "cell_type": "code",
   "execution_count": null,
   "metadata": {},
   "outputs": [],
   "source": [
    "# write a never ending while loop here by replacing the condition...\n",
    "while True:\n",
    "    print(\"Programming is fun\")"
   ]
  },
  {
   "cell_type": "markdown",
   "metadata": {},
   "source": [
    "You can also break out of a while loop (like the never ending loop above) using the `break` command.\n",
    "\n",
    "Try it below. Break out of the loop if `myNumber == 5`"
   ]
  },
  {
   "cell_type": "code",
   "execution_count": 4,
   "metadata": {},
   "outputs": [
    {
     "name": "stdout",
     "output_type": "stream",
     "text": [
      "myNumber is 0\n",
      "myNumber is 1\n",
      "myNumber is 2\n",
      "myNumber is 3\n",
      "myNumber is 4\n",
      "You have broken out of the loop\n"
     ]
    }
   ],
   "source": [
    "myNumber = 0\n",
    "while myNumber < 10000000:\n",
    "    print(f\"myNumber is {myNumber}\")\n",
    "    myNumber += 1\n",
    "    if myNumber == 5:\n",
    "        break\n",
    "\n",
    "print(\"You have broken out of the loop\")"
   ]
  },
  {
   "cell_type": "markdown",
   "metadata": {},
   "source": [
    "There may also be some special occasions where you want to run a loop except if certain conditions are met. Here we can use the keyword `continue` to skip to the end of the loop and start again. We can use this to print all numbers unless they are a multiple of 7."
   ]
  },
  {
   "cell_type": "code",
   "execution_count": 7,
   "metadata": {},
   "outputs": [
    {
     "name": "stdout",
     "output_type": "stream",
     "text": [
      "myNumber is 1\n",
      "myNumber is 2\n",
      "myNumber is 3\n",
      "myNumber is 4\n",
      "myNumber is 5\n",
      "myNumber is 6\n",
      "myNumber is 8\n",
      "myNumber is 9\n",
      "myNumber is 10\n",
      "myNumber is 11\n",
      "myNumber is 12\n",
      "myNumber is 13\n",
      "myNumber is 15\n",
      "myNumber is 16\n",
      "myNumber is 17\n",
      "myNumber is 18\n",
      "myNumber is 19\n",
      "myNumber is 20\n",
      "myNumber is 22\n",
      "myNumber is 23\n",
      "myNumber is 24\n"
     ]
    }
   ],
   "source": [
    "myNumber = 0\n",
    "while True:\n",
    "    myNumber += 1\n",
    "    if (myNumber % 7) == 0:\n",
    "        continue\n",
    "    else:\n",
    "        print(f\"myNumber is {myNumber}\")\n",
    "    if myNumber > 23:\n",
    "        break"
   ]
  }
 ],
 "metadata": {
  "kernelspec": {
   "display_name": "Python 3",
   "language": "python",
   "name": "python3"
  },
  "language_info": {
   "codemirror_mode": {
    "name": "ipython",
    "version": 3
   },
   "file_extension": ".py",
   "mimetype": "text/x-python",
   "name": "python",
   "nbconvert_exporter": "python",
   "pygments_lexer": "ipython3",
   "version": "3.10.8"
  }
 },
 "nbformat": 4,
 "nbformat_minor": 2
}
