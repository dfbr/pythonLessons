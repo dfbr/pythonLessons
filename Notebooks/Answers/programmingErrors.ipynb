{
 "cells": [
  {
   "cell_type": "markdown",
   "metadata": {},
   "source": [
    "# Investigating errors\n",
    "\n",
    "The code below has some common errors. For each cell, see if you can work out what the error is and correct it to provide the expected output."
   ]
  },
  {
   "cell_type": "code",
   "execution_count": 1,
   "metadata": {},
   "outputs": [
    {
     "name": "stdout",
     "output_type": "stream",
     "text": [
      "Hello, world!\n"
     ]
    }
   ],
   "source": [
    "doNotCallYourVariablePrint = \"Hello, world!\"\n",
    "print(doNotCallYourVariablePrint)\n",
    "\n",
    "# Expected output is \"Hello, world!\""
   ]
  },
  {
   "cell_type": "code",
   "execution_count": 2,
   "metadata": {},
   "outputs": [
    {
     "name": "stdout",
     "output_type": "stream",
     "text": [
      "Christian Michelsen\n"
     ]
    }
   ],
   "source": [
    "firstFivePrimeMinistersOfNorway = [\"Christian Michelsen\",\n",
    "                                 \"Jørgen Løvland\",\n",
    "                                 \"Gunnar Knudsen\",\n",
    "                                 \"Wollert Konow\",\n",
    "                                 \"Jens Bratlie\"]\n",
    "\n",
    "# print the first prime minister of Norway\n",
    "print(firstFivePrimeMinistersOfNorway[0])\n",
    "\n",
    "# Expected output is \"Christian Michelsen\""
   ]
  },
  {
   "cell_type": "code",
   "execution_count": 3,
   "metadata": {},
   "outputs": [
    {
     "name": "stdout",
     "output_type": "stream",
     "text": [
      "5\n"
     ]
    }
   ],
   "source": [
    "listOfNumbers = [1, 2, 3, 4, 5]\n",
    "\n",
    "# print the fifth element of the array (expected output is \"5\")\n",
    "print(listOfNumbers[4])"
   ]
  },
  {
   "cell_type": "code",
   "execution_count": 4,
   "metadata": {},
   "outputs": [
    {
     "name": "stdout",
     "output_type": "stream",
     "text": [
      "Hello there class learners\n"
     ]
    }
   ],
   "source": [
    "mySentence = \"Hello there class learners\"\n",
    "\n",
    "# print mySentence (expected output is \"Hello there class learners\")\n",
    "print(mySentence)"
   ]
  },
  {
   "cell_type": "code",
   "execution_count": 10,
   "metadata": {},
   "outputs": [],
   "source": [
    "# set up some values in this cell for use below (no exercise here)\n",
    "myInteger = 1\n",
    "myFloat = 1.0\n",
    "zero = 0\n",
    "myString = \"Here is a string\""
   ]
  },
  {
   "cell_type": "code",
   "execution_count": 11,
   "metadata": {},
   "outputs": [
    {
     "data": {
      "text/plain": [
       "2.0"
      ]
     },
     "execution_count": 11,
     "metadata": {},
     "output_type": "execute_result"
    }
   ],
   "source": [
    "# add myInteger and myFloat (expected output is \"2.0\".) \n",
    "myInteger + myFloat\n",
    "\n",
    "# Why is it \"2.0\" and not \"2\": because when adding a string and a float, the result will be a float."
   ]
  },
  {
   "cell_type": "code",
   "execution_count": 12,
   "metadata": {},
   "outputs": [
    {
     "name": "stdout",
     "output_type": "stream",
     "text": [
      "1.0Here is a string\n"
     ]
    }
   ],
   "source": [
    "# make myString have the value \"1.0Here is a string\"\n",
    "myString = str(myFloat) + myString\n",
    "print(myString)"
   ]
  },
  {
   "cell_type": "code",
   "execution_count": 14,
   "metadata": {},
   "outputs": [
    {
     "name": "stdout",
     "output_type": "stream",
     "text": [
      "The value of coffee is 'True'\n"
     ]
    }
   ],
   "source": [
    "# if it's morning, make the variable coffee have the value true\n",
    "\n",
    "morning = True\n",
    "coffee = False\n",
    "if morning == True:\n",
    "    coffee = True\n",
    "\n",
    "print(f\"The value of coffee is '{coffee}'\")"
   ]
  },
  {
   "cell_type": "code",
   "execution_count": 16,
   "metadata": {},
   "outputs": [
    {
     "name": "stdout",
     "output_type": "stream",
     "text": [
      "The value of afternoon is 'False'\n",
      "The value of coffee is 'True'\n"
     ]
    }
   ],
   "source": [
    "# if it's not afternoon, make the variable coffee have the value false\n",
    "\n",
    "afternoon = False\n",
    "coffee = True\n",
    "if afternoon:\n",
    "    coffee = False\n",
    "else:\n",
    "    coffee = True\n",
    "\n",
    "print(f\"The value of afternoon is '{afternoon}'\")\n",
    "print(f\"The value of coffee is '{coffee}'\")"
   ]
  },
  {
   "cell_type": "code",
   "execution_count": 19,
   "metadata": {},
   "outputs": [
    {
     "name": "stdout",
     "output_type": "stream",
     "text": [
      "My job is IT but I would rather be a hot air balloonist\n"
     ]
    }
   ],
   "source": [
    "# expected output is \"My job is IT but I would rather be a hot air balloonist\"\n",
    "mySelf = {\"height\": 170,\n",
    "          \"hairColour\" : \"brown\",\n",
    "          \"actualJob\": \"IT\",\n",
    "          \"dreamJob\": \"hot air balloonist\"}\n",
    "\n",
    "print(f\"My job is {mySelf['actualJob']} but I would rather be a {mySelf['dreamJob']}\")"
   ]
  },
  {
   "cell_type": "code",
   "execution_count": 20,
   "metadata": {},
   "outputs": [],
   "source": [
    "# what is the problem with defining the dictionary below?\n",
    "myDictionary = {\"book\": \"1984\",\n",
    "                \"Author\": \"George Orwell\",\n",
    "                \"puplicationYear\": 1949,\n",
    "                \"goodReadsScore\": 4.19}\n",
    "\n",
    "# wrong bracket types, should be {}, not []"
   ]
  },
  {
   "cell_type": "code",
   "execution_count": 21,
   "metadata": {},
   "outputs": [
    {
     "name": "stdout",
     "output_type": "stream",
     "text": [
      "The condition was True\n",
      "The condition was True\n"
     ]
    }
   ],
   "source": [
    "# expected output is two lines containing \"The condition was true\"\n",
    "\n",
    "if True:\n",
    "    print(\"The condition was True\")\n",
    "    print(\"The condition was True\") # indentation is significant in Python and should be consistent for code in the same block"
   ]
  },
  {
   "cell_type": "code",
   "execution_count": 22,
   "metadata": {},
   "outputs": [
    {
     "name": "stdout",
     "output_type": "stream",
     "text": [
      "Defaulting to user installation because normal site-packages is not writeable\n",
      "Collecting iql\n",
      "  Downloading iql-1.7.2-py3-none-any.whl.metadata (25 kB)\n",
      "Collecting duckdb>=0.8.0 (from iql)\n",
      "  Downloading duckdb-1.1.0-cp310-cp310-win_amd64.whl.metadata (781 bytes)\n",
      "Requirement already satisfied: pandas>=2.0.0 in c:\\users\\darow4074\\appdata\\roaming\\python\\python310\\site-packages (from iql) (2.0.2)\n",
      "Collecting sqlparse>=0.4.3 (from iql)\n",
      "  Downloading sqlparse-0.5.1-py3-none-any.whl.metadata (3.9 kB)\n",
      "Collecting pyarrow (from iql)\n",
      "  Downloading pyarrow-17.0.0-cp310-cp310-win_amd64.whl.metadata (3.4 kB)\n",
      "Requirement already satisfied: python-dateutil>=2.8.2 in c:\\users\\darow4074\\appdata\\roaming\\python\\python310\\site-packages (from pandas>=2.0.0->iql) (2.8.2)\n",
      "Requirement already satisfied: pytz>=2020.1 in c:\\users\\darow4074\\appdata\\roaming\\python\\python310\\site-packages (from pandas>=2.0.0->iql) (2023.3)\n",
      "Requirement already satisfied: tzdata>=2022.1 in c:\\users\\darow4074\\appdata\\roaming\\python\\python310\\site-packages (from pandas>=2.0.0->iql) (2023.3)\n",
      "Requirement already satisfied: numpy>=1.21.0 in c:\\users\\darow4074\\appdata\\roaming\\python\\python310\\site-packages (from pandas>=2.0.0->iql) (1.24.3)\n",
      "Requirement already satisfied: six>=1.5 in c:\\users\\darow4074\\appdata\\roaming\\python\\python310\\site-packages (from python-dateutil>=2.8.2->pandas>=2.0.0->iql) (1.16.0)\n",
      "Downloading iql-1.7.2-py3-none-any.whl (50 kB)\n",
      "Downloading duckdb-1.1.0-cp310-cp310-win_amd64.whl (10.9 MB)\n",
      "   ---------------------------------------- 0.0/10.9 MB ? eta -:--:--\n",
      "   ---------------------------------------- 0.0/10.9 MB ? eta -:--:--\n",
      "   ---------------------------------------- 0.0/10.9 MB ? eta -:--:--\n",
      "   ---------------------------------------- 0.0/10.9 MB ? eta -:--:--\n",
      "   ---------------------------------------- 0.0/10.9 MB ? eta -:--:--\n",
      "    --------------------------------------- 0.3/10.9 MB ? eta -:--:--\n",
      "    --------------------------------------- 0.3/10.9 MB ? eta -:--:--\n",
      "   - -------------------------------------- 0.5/10.9 MB 540.5 kB/s eta 0:00:20\n",
      "   - -------------------------------------- 0.5/10.9 MB 540.5 kB/s eta 0:00:20\n",
      "   -- ------------------------------------- 0.8/10.9 MB 541.1 kB/s eta 0:00:19\n",
      "   -- ------------------------------------- 0.8/10.9 MB 541.1 kB/s eta 0:00:19\n",
      "   -- ------------------------------------- 0.8/10.9 MB 541.1 kB/s eta 0:00:19\n",
      "   -- ------------------------------------- 0.8/10.9 MB 541.1 kB/s eta 0:00:19\n",
      "   --- ------------------------------------ 1.0/10.9 MB 449.4 kB/s eta 0:00:22\n",
      "   --- ------------------------------------ 1.0/10.9 MB 449.4 kB/s eta 0:00:22\n",
      "   --- ------------------------------------ 1.0/10.9 MB 449.4 kB/s eta 0:00:22\n",
      "   --- ------------------------------------ 1.0/10.9 MB 449.4 kB/s eta 0:00:22\n",
      "   --- ------------------------------------ 1.0/10.9 MB 449.4 kB/s eta 0:00:22\n",
      "   ---- ----------------------------------- 1.3/10.9 MB 370.8 kB/s eta 0:00:26\n",
      "   ---- ----------------------------------- 1.3/10.9 MB 370.8 kB/s eta 0:00:26\n",
      "   ---- ----------------------------------- 1.3/10.9 MB 370.8 kB/s eta 0:00:26\n",
      "   ---- ----------------------------------- 1.3/10.9 MB 370.8 kB/s eta 0:00:26\n",
      "   ----- ---------------------------------- 1.6/10.9 MB 363.1 kB/s eta 0:00:26\n",
      "   ----- ---------------------------------- 1.6/10.9 MB 363.1 kB/s eta 0:00:26\n",
      "   ------ --------------------------------- 1.8/10.9 MB 394.7 kB/s eta 0:00:24\n",
      "   ------- -------------------------------- 2.1/10.9 MB 428.6 kB/s eta 0:00:21\n",
      "   ------- -------------------------------- 2.1/10.9 MB 428.6 kB/s eta 0:00:21\n",
      "   -------- ------------------------------- 2.4/10.9 MB 450.4 kB/s eta 0:00:20\n",
      "   -------- ------------------------------- 2.4/10.9 MB 450.4 kB/s eta 0:00:20\n",
      "   -------- ------------------------------- 2.4/10.9 MB 450.4 kB/s eta 0:00:20\n",
      "   --------- ------------------------------ 2.6/10.9 MB 436.4 kB/s eta 0:00:20\n",
      "   --------- ------------------------------ 2.6/10.9 MB 436.4 kB/s eta 0:00:20\n",
      "   ---------- ----------------------------- 2.9/10.9 MB 452.2 kB/s eta 0:00:18\n",
      "   ----------- ---------------------------- 3.1/10.9 MB 473.2 kB/s eta 0:00:17\n",
      "   ----------- ---------------------------- 3.1/10.9 MB 473.2 kB/s eta 0:00:17\n",
      "   ------------ --------------------------- 3.4/10.9 MB 486.3 kB/s eta 0:00:16\n",
      "   ------------ --------------------------- 3.4/10.9 MB 486.3 kB/s eta 0:00:16\n",
      "   ------------- -------------------------- 3.7/10.9 MB 503.7 kB/s eta 0:00:15\n",
      "   --------------- ------------------------ 4.2/10.9 MB 548.3 kB/s eta 0:00:13\n",
      "   ---------------- ----------------------- 4.5/10.9 MB 571.1 kB/s eta 0:00:12\n",
      "   ----------------- ---------------------- 4.7/10.9 MB 597.9 kB/s eta 0:00:11\n",
      "   ------------------- -------------------- 5.2/10.9 MB 642.7 kB/s eta 0:00:09\n",
      "   -------------------- ------------------- 5.5/10.9 MB 660.5 kB/s eta 0:00:09\n",
      "   -------------------- ------------------- 5.5/10.9 MB 660.5 kB/s eta 0:00:09\n",
      "   ---------------------- ----------------- 6.0/10.9 MB 684.8 kB/s eta 0:00:08\n",
      "   ---------------------- ----------------- 6.0/10.9 MB 684.8 kB/s eta 0:00:08\n",
      "   ----------------------- ---------------- 6.3/10.9 MB 691.5 kB/s eta 0:00:07\n",
      "   ----------------------- ---------------- 6.6/10.9 MB 699.0 kB/s eta 0:00:07\n",
      "   ------------------------ --------------- 6.8/10.9 MB 719.4 kB/s eta 0:00:06\n",
      "   ------------------------ --------------- 6.8/10.9 MB 719.4 kB/s eta 0:00:06\n",
      "   -------------------------- ------------- 7.3/10.9 MB 729.5 kB/s eta 0:00:05\n",
      "   -------------------------- ------------- 7.3/10.9 MB 729.5 kB/s eta 0:00:05\n",
      "   ---------------------------- ----------- 7.9/10.9 MB 754.3 kB/s eta 0:00:05\n",
      "   ------------------------------ --------- 8.4/10.9 MB 785.6 kB/s eta 0:00:04\n",
      "   ------------------------------- -------- 8.7/10.9 MB 796.6 kB/s eta 0:00:03\n",
      "   -------------------------------- ------- 8.9/10.9 MB 813.0 kB/s eta 0:00:03\n",
      "   --------------------------------- ------ 9.2/10.9 MB 823.1 kB/s eta 0:00:03\n",
      "   ----------------------------------- ---- 9.7/10.9 MB 848.3 kB/s eta 0:00:02\n",
      "   ------------------------------------ --- 10.0/10.9 MB 857.4 kB/s eta 0:00:02\n",
      "   ------------------------------------- -- 10.2/10.9 MB 856.9 kB/s eta 0:00:01\n",
      "   -------------------------------------- - 10.5/10.9 MB 872.4 kB/s eta 0:00:01\n",
      "   ---------------------------------------  10.7/10.9 MB 880.7 kB/s eta 0:00:01\n",
      "   ---------------------------------------- 10.9/10.9 MB 879.0 kB/s eta 0:00:00\n",
      "Downloading sqlparse-0.5.1-py3-none-any.whl (44 kB)\n",
      "Downloading pyarrow-17.0.0-cp310-cp310-win_amd64.whl (25.1 MB)\n",
      "   ---------------------------------------- 0.0/25.1 MB ? eta -:--:--\n",
      "   ---------------------------------------- 0.3/25.1 MB ? eta -:--:--\n",
      "    --------------------------------------- 0.5/25.1 MB 882.6 kB/s eta 0:00:28\n",
      "   - -------------------------------------- 0.8/25.1 MB 1.1 MB/s eta 0:00:23\n",
      "   - -------------------------------------- 1.0/25.1 MB 1.1 MB/s eta 0:00:22\n",
      "   -- ------------------------------------- 1.3/25.1 MB 1.2 MB/s eta 0:00:21\n",
      "   -- ------------------------------------- 1.6/25.1 MB 1.1 MB/s eta 0:00:21\n",
      "   -- ------------------------------------- 1.8/25.1 MB 1.2 MB/s eta 0:00:21\n",
      "   -- ------------------------------------- 1.8/25.1 MB 1.2 MB/s eta 0:00:21\n",
      "   -- ------------------------------------- 1.8/25.1 MB 1.2 MB/s eta 0:00:21\n",
      "   -- ------------------------------------- 1.8/25.1 MB 1.2 MB/s eta 0:00:21\n",
      "   -- ------------------------------------- 1.8/25.1 MB 1.2 MB/s eta 0:00:21\n",
      "   ----- ---------------------------------- 3.1/25.1 MB 1.2 MB/s eta 0:00:18\n",
      "   ----- ---------------------------------- 3.4/25.1 MB 1.2 MB/s eta 0:00:18\n",
      "   ------ --------------------------------- 4.2/25.1 MB 1.4 MB/s eta 0:00:15\n",
      "   ------ --------------------------------- 4.2/25.1 MB 1.4 MB/s eta 0:00:15\n",
      "   ------- -------------------------------- 4.7/25.1 MB 1.4 MB/s eta 0:00:15\n",
      "   ------- -------------------------------- 5.0/25.1 MB 1.4 MB/s eta 0:00:15\n",
      "   -------- ------------------------------- 5.5/25.1 MB 1.4 MB/s eta 0:00:14\n",
      "   --------- ------------------------------ 5.8/25.1 MB 1.4 MB/s eta 0:00:14\n",
      "   --------- ------------------------------ 6.0/25.1 MB 1.5 MB/s eta 0:00:14\n",
      "   ---------- ----------------------------- 6.3/25.1 MB 1.5 MB/s eta 0:00:14\n",
      "   ---------- ----------------------------- 6.6/25.1 MB 1.4 MB/s eta 0:00:14\n",
      "   ----------- ---------------------------- 7.1/25.1 MB 1.4 MB/s eta 0:00:13\n",
      "   ----------- ---------------------------- 7.3/25.1 MB 1.4 MB/s eta 0:00:13\n",
      "   ----------- ---------------------------- 7.3/25.1 MB 1.4 MB/s eta 0:00:13\n",
      "   ----------- ---------------------------- 7.3/25.1 MB 1.4 MB/s eta 0:00:13\n",
      "   ----------- ---------------------------- 7.3/25.1 MB 1.4 MB/s eta 0:00:13\n",
      "   ----------- ---------------------------- 7.3/25.1 MB 1.4 MB/s eta 0:00:13\n",
      "   ------------- -------------------------- 8.7/25.1 MB 1.4 MB/s eta 0:00:12\n",
      "   ------------- -------------------------- 8.7/25.1 MB 1.4 MB/s eta 0:00:12\n",
      "   -------------- ------------------------- 8.9/25.1 MB 1.4 MB/s eta 0:00:12\n",
      "   -------------- ------------------------- 9.2/25.1 MB 1.4 MB/s eta 0:00:12\n",
      "   --------------- ------------------------ 9.4/25.1 MB 1.4 MB/s eta 0:00:12\n",
      "   --------------- ------------------------ 9.7/25.1 MB 1.4 MB/s eta 0:00:12\n",
      "   ---------------- ----------------------- 10.2/25.1 MB 1.4 MB/s eta 0:00:11\n",
      "   ---------------- ----------------------- 10.5/25.1 MB 1.4 MB/s eta 0:00:11\n",
      "   ---------------- ----------------------- 10.5/25.1 MB 1.4 MB/s eta 0:00:11\n",
      "   ---------------- ----------------------- 10.5/25.1 MB 1.4 MB/s eta 0:00:11\n",
      "   ---------------- ----------------------- 10.5/25.1 MB 1.4 MB/s eta 0:00:11\n",
      "   ------------------ --------------------- 11.5/25.1 MB 1.4 MB/s eta 0:00:11\n",
      "   ------------------ --------------------- 11.8/25.1 MB 1.4 MB/s eta 0:00:10\n",
      "   ------------------- -------------------- 12.3/25.1 MB 1.4 MB/s eta 0:00:10\n",
      "   -------------------- ------------------- 12.6/25.1 MB 1.4 MB/s eta 0:00:10\n",
      "   -------------------- ------------------- 12.6/25.1 MB 1.4 MB/s eta 0:00:10\n",
      "   -------------------- ------------------- 12.8/25.1 MB 1.4 MB/s eta 0:00:10\n",
      "   -------------------- ------------------- 13.1/25.1 MB 1.4 MB/s eta 0:00:09\n",
      "   -------------------- ------------------- 13.1/25.1 MB 1.4 MB/s eta 0:00:09\n",
      "   --------------------- ------------------ 13.4/25.1 MB 1.3 MB/s eta 0:00:09\n",
      "   --------------------- ------------------ 13.6/25.1 MB 1.3 MB/s eta 0:00:09\n",
      "   --------------------- ------------------ 13.6/25.1 MB 1.3 MB/s eta 0:00:09\n",
      "   ---------------------- ----------------- 13.9/25.1 MB 1.3 MB/s eta 0:00:09\n",
      "   ---------------------- ----------------- 14.2/25.1 MB 1.3 MB/s eta 0:00:09\n",
      "   ---------------------- ----------------- 14.2/25.1 MB 1.3 MB/s eta 0:00:09\n",
      "   ---------------------- ----------------- 14.4/25.1 MB 1.3 MB/s eta 0:00:09\n",
      "   ----------------------- ---------------- 14.7/25.1 MB 1.2 MB/s eta 0:00:09\n",
      "   ----------------------- ---------------- 14.7/25.1 MB 1.2 MB/s eta 0:00:09\n",
      "   ----------------------- ---------------- 14.9/25.1 MB 1.2 MB/s eta 0:00:09\n",
      "   ----------------------- ---------------- 14.9/25.1 MB 1.2 MB/s eta 0:00:09\n",
      "   ------------------------ --------------- 15.2/25.1 MB 1.2 MB/s eta 0:00:09\n",
      "   ------------------------ --------------- 15.5/25.1 MB 1.2 MB/s eta 0:00:09\n",
      "   ------------------------ --------------- 15.5/25.1 MB 1.2 MB/s eta 0:00:09\n",
      "   ------------------------- -------------- 15.7/25.1 MB 1.2 MB/s eta 0:00:08\n",
      "   ------------------------- -------------- 15.7/25.1 MB 1.2 MB/s eta 0:00:08\n",
      "   ------------------------- -------------- 16.0/25.1 MB 1.2 MB/s eta 0:00:08\n",
      "   ------------------------- -------------- 16.3/25.1 MB 1.2 MB/s eta 0:00:08\n",
      "   -------------------------- ------------- 16.5/25.1 MB 1.2 MB/s eta 0:00:08\n",
      "   -------------------------- ------------- 16.5/25.1 MB 1.2 MB/s eta 0:00:08\n",
      "   --------------------------- ------------ 17.0/25.1 MB 1.2 MB/s eta 0:00:07\n",
      "   --------------------------- ------------ 17.0/25.1 MB 1.2 MB/s eta 0:00:07\n",
      "   --------------------------- ------------ 17.3/25.1 MB 1.2 MB/s eta 0:00:07\n",
      "   --------------------------- ------------ 17.3/25.1 MB 1.2 MB/s eta 0:00:07\n",
      "   --------------------------- ------------ 17.6/25.1 MB 1.1 MB/s eta 0:00:07\n",
      "   --------------------------- ------------ 17.6/25.1 MB 1.1 MB/s eta 0:00:07\n",
      "   ---------------------------- ----------- 17.8/25.1 MB 1.1 MB/s eta 0:00:07\n",
      "   ---------------------------- ----------- 18.1/25.1 MB 1.1 MB/s eta 0:00:07\n",
      "   ----------------------------- ---------- 18.6/25.1 MB 1.1 MB/s eta 0:00:06\n",
      "   ------------------------------ --------- 19.1/25.1 MB 1.2 MB/s eta 0:00:06\n",
      "   -------------------------------- ------- 20.4/25.1 MB 1.2 MB/s eta 0:00:04\n",
      "   ---------------------------------- ----- 21.5/25.1 MB 1.3 MB/s eta 0:00:03\n",
      "   ------------------------------------- -- 23.3/25.1 MB 1.4 MB/s eta 0:00:02\n",
      "   ---------------------------------------- 25.1/25.1 MB 1.5 MB/s eta 0:00:00\n",
      "Installing collected packages: sqlparse, pyarrow, duckdb, iql\n",
      "Successfully installed duckdb-1.1.0 iql-1.7.2 pyarrow-17.0.0 sqlparse-0.5.1\n"
     ]
    }
   ],
   "source": [
    "# what is happening with this? How would you fix the error\n",
    "!pip install iql\n",
    "import iql"
   ]
  }
 ],
 "metadata": {
  "kernelspec": {
   "display_name": "Python 3",
   "language": "python",
   "name": "python3"
  },
  "language_info": {
   "codemirror_mode": {
    "name": "ipython",
    "version": 3
   },
   "file_extension": ".py",
   "mimetype": "text/x-python",
   "name": "python",
   "nbconvert_exporter": "python",
   "pygments_lexer": "ipython3",
   "version": "3.10.8"
  }
 },
 "nbformat": 4,
 "nbformat_minor": 2
}
