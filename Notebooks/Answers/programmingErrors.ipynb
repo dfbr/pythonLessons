{
 "cells": [
  {
   "cell_type": "markdown",
   "metadata": {},
   "source": [
    "# Investigating errors\n",
    "\n",
    "The code below has some common errors. For each cell, see if you can work out what the error is and correct it to provide the expected output."
   ]
  },
  {
   "cell_type": "code",
   "execution_count": null,
   "metadata": {},
   "outputs": [],
   "source": [
    "print = \"Hello, world!\"\n",
    "print(print)\n",
    "\n",
    "# Expected output is \"Hello, world!\""
   ]
  },
  {
   "cell_type": "code",
   "execution_count": 1,
   "metadata": {},
   "outputs": [
    {
     "name": "stdout",
     "output_type": "stream",
     "text": [
      "Christian Michelsen\n"
     ]
    }
   ],
   "source": [
    "firstFivePrimeMinistersOfNorway = [\"Christian Michelsen\",\n",
    "                                 \"Jørgen Løvland\",\n",
    "                                 \"Gunnar Knudsen\",\n",
    "                                 \"Wollert Konow\",\n",
    "                                 \"Jens Bratlie\"]\n",
    "\n",
    "# print the first prime minister of Norway\n",
    "print(firstFivePrimeMinistersOfNorway[0]) # arrays start with the zeroth element so the first one is always [0]\n",
    "\n",
    "# Expected output is \"Christian Michelsen\""
   ]
  },
  {
   "cell_type": "code",
   "execution_count": 2,
   "metadata": {},
   "outputs": [
    {
     "name": "stdout",
     "output_type": "stream",
     "text": [
      "5\n"
     ]
    }
   ],
   "source": [
    "listOfNumbers = [1, 2, 3, 4, 5]\n",
    "\n",
    "# print the fifth element of the array (expected output is \"5\")\n",
    "print(listOfNumbers[4]) # arrays start with 0 so the fifth item has the index of 4"
   ]
  },
  {
   "cell_type": "code",
   "execution_count": 4,
   "metadata": {},
   "outputs": [
    {
     "name": "stdout",
     "output_type": "stream",
     "text": [
      "Hello there class learners\n"
     ]
    }
   ],
   "source": [
    "mySentence = \"Hello there class learners\"\n",
    "\n",
    "# print mySentence (expected output is \"Hello there class learners\")\n",
    "print(mySentence) # variables are case sensitive"
   ]
  },
  {
   "cell_type": "code",
   "execution_count": 5,
   "metadata": {},
   "outputs": [],
   "source": [
    "# set up some values in this cell for use below (no exercise here)\n",
    "myInteger = 1\n",
    "myFloat = 1.0\n",
    "zero = 0\n",
    "myString = \"Here is a string\"\n",
    "\n",
    "# don't forget you need to run all cells!"
   ]
  },
  {
   "cell_type": "code",
   "execution_count": 7,
   "metadata": {},
   "outputs": [
    {
     "data": {
      "text/plain": [
       "2.0"
      ]
     },
     "execution_count": 7,
     "metadata": {},
     "output_type": "execute_result"
    }
   ],
   "source": [
    "# add myInteger and myFloat (expected output is \"2.0\".) (if you didn't run the cell above you got an error here first time.)\n",
    "myInteger + myFloat\n",
    "\n",
    "# Why is it \"2.0\" and not \"2\"\n",
    "\n",
    "# Because it is represented as a float (int + float = float)"
   ]
  },
  {
   "cell_type": "code",
   "execution_count": 10,
   "metadata": {},
   "outputs": [
    {
     "data": {
      "text/plain": [
       "'1.01.0Here is a string'"
      ]
     },
     "execution_count": 10,
     "metadata": {},
     "output_type": "execute_result"
    }
   ],
   "source": [
    "# make myString have the value \"1.0Here is a string\"\n",
    "myString = str(myFloat) + myString # we can cast myFloat to be a string temporarily\n",
    "myString"
   ]
  },
  {
   "cell_type": "code",
   "execution_count": 12,
   "metadata": {},
   "outputs": [
    {
     "name": "stdout",
     "output_type": "stream",
     "text": [
      "The value of coffee is 'True'\n"
     ]
    }
   ],
   "source": [
    "# if it's morning, make the variable coffee have the value true\n",
    "\n",
    "morning = True\n",
    "coffee = False\n",
    "if morning == True:\n",
    "    coffee = True # we had an extra = sign so we didn't assign a new value, we compared the two values again\n",
    "\n",
    "print(f\"The value of coffee is '{coffee}'\")"
   ]
  },
  {
   "cell_type": "code",
   "execution_count": 16,
   "metadata": {},
   "outputs": [
    {
     "name": "stdout",
     "output_type": "stream",
     "text": [
      "The value of afternoon is 'False'\n",
      "The value of coffee is 'True'\n"
     ]
    }
   ],
   "source": [
    "# if it's not afternoon, make the variable coffee have the value false\n",
    "\n",
    "afternoon = False # boolean values don't have quotes around them\n",
    "coffee = True\n",
    "if afternoon:\n",
    "    coffee = False\n",
    "else:\n",
    "    coffee = True\n",
    "\n",
    "print(f\"The value of afternoon is '{afternoon}'\")\n",
    "print(f\"The value of coffee is '{coffee}'\")"
   ]
  }
 ],
 "metadata": {
  "kernelspec": {
   "display_name": "Python 3",
   "language": "python",
   "name": "python3"
  },
  "language_info": {
   "codemirror_mode": {
    "name": "ipython",
    "version": 3
   },
   "file_extension": ".py",
   "mimetype": "text/x-python",
   "name": "python",
   "nbconvert_exporter": "python",
   "pygments_lexer": "ipython3",
   "version": "3.10.8"
  }
 },
 "nbformat": 4,
 "nbformat_minor": 2
}
