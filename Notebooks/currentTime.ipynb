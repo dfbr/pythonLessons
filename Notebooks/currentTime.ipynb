{
  "cells": [
    {
      "cell_type": "code",
      "execution_count": null,
      "metadata": {
        "trusted": true
      },
      "outputs": [],
      "source": [
        "%%script python3\n",
        "\n",
        "\"\"\"\n",
        "A script to show the user the current time.\n",
        "\n",
        "Author: Matthew Pitkin\n",
        "Email: m.pitkin@lancaster.ac.uk\n",
        "Date: 22/06/2020\n",
        "\"\"\"\n",
        "\n",
        "# import the required modules\n",
        "import datetime\n",
        "\n",
        "\n",
        "def gettime():\n",
        "    \"\"\"\n",
        "    A function to return the current time.\n",
        "\n",
        "    Returns\n",
        "    -------\n",
        "    tuple:\n",
        "        A tuple containing the hour, minutes and seconds.\n",
        "    \"\"\"\n",
        "\n",
        "    now = datetime.datetime.now()\n",
        "\n",
        "    return now.hour, now.minute, now.second + 1e-6 * now.microsecond\n",
        "\n",
        "# get the time\n",
        "hour, minute, seconds = gettime()\n",
        "\n",
        "print(f\"The current time is {hour}:{minute}:{seconds}\")"
      ]
    }
  ],
  "metadata": {
    "kernelspec": {
      "display_name": "Python (Pyodide)",
      "language": "python",
      "name": "python"
    },
    "language_info": {
      "codemirror_mode": {
        "name": "python",
        "version": 3
      },
      "file_extension": ".py",
      "mimetype": "text/x-python",
      "name": "python",
      "nbconvert_exporter": "python",
      "pygments_lexer": "ipython3",
      "version": "3.8"
    }
  },
  "nbformat": 4,
  "nbformat_minor": 4
}
