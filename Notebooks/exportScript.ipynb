{
 "cells": [
  {
   "cell_type": "markdown",
   "metadata": {},
   "source": [
    "# Export this script and then run it on a local computer"
   ]
  },
  {
   "cell_type": "code",
   "execution_count": null,
   "metadata": {},
   "outputs": [],
   "source": [
    "# this is a simple script to print the current date and time\n",
    "\n",
    "# first we import the datetime package\n",
    "import datetime\n",
    "\n",
    "# next we get the date and time as of now\n",
    "myDate = datetime.datetime.now()\n",
    "\n",
    "# finally, we use the \"strftime\" function to print the \n",
    "# date and time in a human readable format\n",
    "print(myDate.strftime(\"%A %d %B %Y, %H:%M:%S\"))"
   ]
  }
 ],
 "metadata": {
  "kernelspec": {
   "display_name": "Python 3",
   "language": "python",
   "name": "python3"
  },
  "language_info": {
   "codemirror_mode": {
    "name": "ipython",
    "version": 3
   },
   "file_extension": ".py",
   "mimetype": "text/x-python",
   "name": "python",
   "nbconvert_exporter": "python",
   "pygments_lexer": "ipython3",
   "version": "3.10.8"
  }
 },
 "nbformat": 4,
 "nbformat_minor": 2
}
