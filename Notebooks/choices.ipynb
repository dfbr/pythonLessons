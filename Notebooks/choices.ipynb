{
 "cells": [
  {
   "cell_type": "markdown",
   "metadata": {},
   "source": [
    "# Making choices in Python\n",
    "\n",
    "We use the keywords `if`, `elif` and `else` to make choices based on a **condition**"
   ]
  },
  {
   "cell_type": "code",
   "execution_count": null,
   "metadata": {},
   "outputs": [],
   "source": [
    "# first lets set a boolean variable\n",
    "# a boolean variable contains either the value True or False. \n",
    "\n",
    "myBooleanVariable = True"
   ]
  },
  {
   "cell_type": "code",
   "execution_count": null,
   "metadata": {},
   "outputs": [],
   "source": [
    "# now can we make decisions based on myBooleanVariable?\n",
    "if myBooleanVariable:\n",
    "    print(\"The condition evaluated to True\")"
   ]
  },
  {
   "cell_type": "code",
   "execution_count": null,
   "metadata": {},
   "outputs": [],
   "source": [
    "# now a fall back option with \"else\"\n",
    "myBooleanVariable = False\n",
    "if myBooleanVariable:\n",
    "    print(\"The condition evaluated to True\")\n",
    "else:\n",
    "    print(\"The condition evaluated to False\")"
   ]
  },
  {
   "cell_type": "code",
   "execution_count": null,
   "metadata": {},
   "outputs": [],
   "source": [
    "# now let's add a second option with \"elif\"\n",
    "myBooleanVariable = \"Yellow\"\n",
    "if myBooleanVariable:\n",
    "    print(\"The first condition evaluated to True\")\n",
    "elif myBooleanVariable == False: \n",
    "    print(\"The second condition evaluated to True\")\n",
    "else:\n",
    "    print(\"Neither of the conditions evaluated to True\")"
   ]
  },
  {
   "cell_type": "markdown",
   "metadata": {},
   "source": [
    "What happened above? \n",
    "How can you fix it?"
   ]
  },
  {
   "cell_type": "code",
   "execution_count": null,
   "metadata": {},
   "outputs": [],
   "source": [
    "# write code to print \"Neither of the conditions evaluated to True\" when myBooleanVariable is set to \"Yellow\""
   ]
  },
  {
   "cell_type": "markdown",
   "metadata": {},
   "source": [
    "The conditions don't just need to be simple True and False and you don't simply need to print some output...\n",
    "\n",
    "We can do any action we are capable of programming in the `if`, `elif` and `else` sections of code.\n",
    "\n",
    "We can use any condition that ultimately evaluates to True or False."
   ]
  },
  {
   "cell_type": "code",
   "execution_count": null,
   "metadata": {},
   "outputs": [],
   "source": [
    "# first lets set a variable called percentVolume\n",
    "percentageVolume = 60\n",
    "print(f\"Volume is set to {percentageVolume}\")"
   ]
  },
  {
   "cell_type": "code",
   "execution_count": null,
   "metadata": {},
   "outputs": [],
   "source": [
    "# now we can use an if statement to do _something_ with the volume.\n",
    "if percentageVolume > 50:\n",
    "    print(\"Turn it down!\")\n"
   ]
  },
  {
   "cell_type": "markdown",
   "metadata": {},
   "source": [
    "Use the cell above as a template but add a statement to lower the percentageVolume by 1 each time the cell is run.\n",
    "\n",
    "Print the volume as well so you know what it is set to."
   ]
  },
  {
   "cell_type": "code",
   "execution_count": null,
   "metadata": {},
   "outputs": [],
   "source": [
    "# put your answer here and run it until it is not too loud."
   ]
  },
  {
   "cell_type": "markdown",
   "metadata": {},
   "source": [
    "## Now let's get more clever..."
   ]
  },
  {
   "cell_type": "code",
   "execution_count": null,
   "metadata": {},
   "outputs": [],
   "source": [
    "# first, we set the volume to a random number...\n",
    "from random import randrange            # this imports someone else's code that we can use to get a random number\n",
    "percentageVolume = randrange(100)       # this sets percentageVolume to a random number upto 100\n",
    "print(f\"Volume is set at {percentageVolume}.\")"
   ]
  },
  {
   "cell_type": "markdown",
   "metadata": {},
   "source": [
    "Now write your own `if`, `elif` and `else` combined statement code to manage the volume:\n",
    "- Turn it up by 1 if it's less than 50\n",
    "- Turn it down by one if it's over 50\n",
    "- Print a statement to tell us it's right if it is set to 50\n",
    "\n",
    "Run the script until the volume is just right."
   ]
  },
  {
   "cell_type": "code",
   "execution_count": null,
   "metadata": {},
   "outputs": [],
   "source": []
  }
 ],
 "metadata": {
  "kernelspec": {
   "display_name": "Python 3",
   "language": "python",
   "name": "python3"
  },
  "language_info": {
   "codemirror_mode": {
    "name": "ipython",
    "version": 3
   },
   "file_extension": ".py",
   "mimetype": "text/x-python",
   "name": "python",
   "nbconvert_exporter": "python",
   "pygments_lexer": "ipython3",
   "version": "3.10.8"
  }
 },
 "nbformat": 4,
 "nbformat_minor": 2
}
