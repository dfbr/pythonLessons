{
 "cells": [
  {
   "cell_type": "code",
   "execution_count": null,
   "metadata": {},
   "outputs": [],
   "source": [
    "%%script python\n",
    "\n",
    "# the sentences below are not variables. Running this cell doesn't do anything\n",
    "\"This is a string.\"\n",
    "\"This is another string.\""
   ]
  },
  {
   "cell_type": "code",
   "execution_count": null,
   "metadata": {},
   "outputs": [],
   "source": [
    "# this assigns the sentence to the variable \"firstSentence\"\n",
    "firstString = \"This is a string.\"\n",
    "secondString = \"This is another string.\"\n",
    "\n",
    "# running this cell appears to do nothing. What is the Python interpreter doing?"
   ]
  },
  {
   "cell_type": "code",
   "execution_count": null,
   "metadata": {},
   "outputs": [],
   "source": [
    "# we can now use the variable in the rest of our script\n",
    "\n",
    "# if we put it in the cell, it will output the value of the variable\n",
    "firstString"
   ]
  },
  {
   "cell_type": "code",
   "execution_count": null,
   "metadata": {},
   "outputs": [],
   "source": [
    "# what else can we do with the variables?\n",
    "\n",
    "#add them?\n",
    "thirdString = firstString + secondString\n"
   ]
  },
  {
   "cell_type": "code",
   "execution_count": null,
   "metadata": {},
   "outputs": [],
   "source": [
    "# how would you see what the value of thirdString is now?\n",
    "\n"
   ]
  },
  {
   "cell_type": "code",
   "execution_count": null,
   "metadata": {},
   "outputs": [],
   "source": [
    "# what else can be stored in a variable?\n",
    "\n",
    "# numbers?\n",
    "myFavouriteNumber = 12\n",
    "myFavouriteNonInteger = 4.5\n",
    "\n",
    "# can I do maths with these?\n",
    "myFavouriteNonInteger - myFavouriteNumber"
   ]
  },
  {
   "cell_type": "code",
   "execution_count": null,
   "metadata": {},
   "outputs": [],
   "source": [
    "# can you multiply myFavouriteNonInteger by myFavouriteNumber? How?"
   ]
  },
  {
   "cell_type": "code",
   "execution_count": null,
   "metadata": {},
   "outputs": [],
   "source": [
    "# Can we store a date?\n",
    "import datetime                 # This imports someone else's code. We'll cover this later in the course\n",
    "today = datetime.date.today()   # Here we use the other person's code. Again, we'll talk about this later in the course\n",
    "print(today)                    # This uses the \"print\" function. You'll try this soon :)"
   ]
  },
  {
   "cell_type": "code",
   "execution_count": null,
   "metadata": {},
   "outputs": [],
   "source": [
    "# try assigning a variable here with a variable name you make up. The value of the variable should be your name.\n"
   ]
  },
  {
   "cell_type": "code",
   "execution_count": null,
   "metadata": {},
   "outputs": [],
   "source": [
    "# now let's use it. Change \"YOURVARIABLENAMEHERE\" to the name of your variable and run the cell\n",
    "print(f\"Hello, {YOURVARIABLENAMEHERE}!\")"
   ]
  },
  {
   "cell_type": "code",
   "execution_count": null,
   "metadata": {},
   "outputs": [],
   "source": [
    "# can you use print to say goodbye to yourself?"
   ]
  },
  {
   "cell_type": "code",
   "execution_count": null,
   "metadata": {},
   "outputs": [],
   "source": [
    "# remember variable names are case sensitive. These are two different variables\n",
    "myvariable = \"HELP!\"\n",
    "MYVARIABLE = \"help!\"\n",
    "\n",
    "print(f\"myvariable is: '{myvariable}'\")\n",
    "print(f\"MYVARIABLE is: '{MYVARIABLE}'\")\n",
    "print(f\"myVariable doesn't exist so we get an error when we try to print it: {myVariable}\")"
   ]
  },
  {
   "cell_type": "code",
   "execution_count": null,
   "metadata": {},
   "outputs": [],
   "source": [
    "# what happens if we call a variable the name of a function\n",
    "print = \"I don't have a printer\""
   ]
  },
  {
   "cell_type": "code",
   "execution_count": null,
   "metadata": {},
   "outputs": [],
   "source": [
    "# can you now use the variable?\n",
    "print"
   ]
  },
  {
   "cell_type": "code",
   "execution_count": null,
   "metadata": {},
   "outputs": [],
   "source": [
    "# can you use the function? (try using print to print your name)\n",
    "print(print)"
   ]
  },
  {
   "cell_type": "code",
   "execution_count": null,
   "metadata": {},
   "outputs": [],
   "source": [
    "# what about a variable with the same name as a reserved word?\n",
    "\n",
    "# you can find the list of reserved words at: https://www.w3schools.com/python/python_ref_keywords.asp\n",
    "\n",
    "# pick one and try using it as a variable name\n"
   ]
  },
  {
   "cell_type": "markdown",
   "metadata": {},
   "source": [
    "Every variable in Python has a *type*. This is how Python knows what you can do with it.\n",
    "\n",
    "Common types that we will be using are:\n",
    "- Integers (*int*)\n",
    "  - Whole numbers\n",
    "- Floats (*float*)\n",
    "  - Numbers with a decimal part\n",
    "- Strings (*str*)\n",
    "  - Text made up of letters and numbers etc.\n",
    "- Booleans (*bool*)\n",
    "  - The values `True` and `False`\n",
    "\n",
    "There are many other types of variables in Python and you can even make up your own.\n",
    "\n",
    "To find out what `type` a variable is, use the function `type(variableThatYouWantToKnowTheTypeOf)`"
   ]
  },
  {
   "cell_type": "code",
   "execution_count": null,
   "metadata": {},
   "outputs": [],
   "source": [
    "# put different variable types in the function and see what the output is. Try it with each of the variable types mentioned above.\n",
    "type(5.35)"
   ]
  },
  {
   "cell_type": "code",
   "execution_count": null,
   "metadata": {},
   "outputs": [],
   "source": [
    "The type of the variable defines what you can do with it. For example, it doesn't make sense to add a string and an integer so this produces an error."
   ]
  },
  {
   "cell_type": "code",
   "execution_count": null,
   "metadata": {},
   "outputs": [],
   "source": [
    "myString = \"My favourite number is: \"\n",
    "myFavouriteNumber = 4\n",
    "myString + myFavouriteNumber"
   ]
  },
  {
   "cell_type": "markdown",
   "metadata": {},
   "source": [
    "For some types, we can temporarily tell Python to treat them as another type. This is useful in the example above..."
   ]
  },
  {
   "cell_type": "code",
   "execution_count": null,
   "metadata": {},
   "outputs": [],
   "source": [
    "myString + str(myFavouriteNumber)"
   ]
  },
  {
   "cell_type": "code",
   "execution_count": null,
   "metadata": {},
   "outputs": [],
   "source": [
    "# by myFavouriteNumber is still an integer\n",
    "type(myFavouriteNumber)"
   ]
  },
  {
   "cell_type": "markdown",
   "metadata": {},
   "source": [
    "We won't be using this sort of conversion but it can be useful to know it exists."
   ]
  }
 ],
 "metadata": {
  "kernelspec": {
   "display_name": "Python 3",
   "language": "python",
   "name": "python3"
  },
  "language_info": {
   "codemirror_mode": {
    "name": "ipython",
    "version": 3
   },
   "file_extension": ".py",
   "mimetype": "text/x-python",
   "name": "python",
   "nbconvert_exporter": "python",
   "pygments_lexer": "ipython3",
   "version": "3.10.8"
  }
 },
 "nbformat": 4,
 "nbformat_minor": 2
}
