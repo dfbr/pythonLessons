{
 "cells": [
  {
   "cell_type": "markdown",
   "metadata": {},
   "source": [
    "## The sentences below are not variables. Running this cell doesn't give any output"
   ]
  },
  {
   "cell_type": "code",
   "execution_count": null,
   "metadata": {},
   "outputs": [],
   "source": [
    "\"This is a string.\"\n",
    "\"This is another string.\""
   ]
  },
  {
   "cell_type": "markdown",
   "metadata": {},
   "source": [
    "## Assign a variable\n",
    "\n",
    "The general syntax for assigning a variable is:\n",
    "\n",
    "`variableName = value`"
   ]
  },
  {
   "cell_type": "code",
   "execution_count": null,
   "metadata": {},
   "outputs": [],
   "source": [
    "# this assigns the sentence to the variable \"firstSentence\"\n",
    "firstString = \"This is a string.\"\n",
    "secondString = \"This is another string.\"\n",
    "\n",
    "# running this cell appears to do nothing. What is the Python interpreter doing?"
   ]
  },
  {
   "cell_type": "markdown",
   "metadata": {},
   "source": [
    "After the variable is assigned, we can use it.\n",
    "\n",
    "Wherever we use the variable name, Python will substitute in the value that the variable contains."
   ]
  },
  {
   "cell_type": "code",
   "execution_count": null,
   "metadata": {},
   "outputs": [],
   "source": [
    "# if we put it in the cell, it will output the value of the variable\n",
    "firstString"
   ]
  },
  {
   "cell_type": "markdown",
   "metadata": {},
   "source": [
    "We can then use the variables in other statements such as below"
   ]
  },
  {
   "cell_type": "code",
   "execution_count": null,
   "metadata": {},
   "outputs": [],
   "source": [
    "# what else can we do with the variables?\n",
    "\n",
    "#add them?\n",
    "thirdString = firstString + secondString\n"
   ]
  },
  {
   "cell_type": "markdown",
   "metadata": {},
   "source": [
    "Variable names are **cAsE sEnSiTiVe**..."
   ]
  },
  {
   "cell_type": "code",
   "execution_count": null,
   "metadata": {},
   "outputs": [],
   "source": [
    "# These are two different variables\n",
    "myvariable = \"HELP!\"\n",
    "MYVARIABLE = \"help!\"\n",
    "\n",
    "print(f\"myvariable is: '{myvariable}'\")\n",
    "print(f\"MYVARIABLE is: '{MYVARIABLE}'\")"
   ]
  },
  {
   "cell_type": "code",
   "execution_count": null,
   "metadata": {},
   "outputs": [],
   "source": [
    "# if you get the case wrong, Python will tell you with an error message\n",
    "print(f\"myVariable doesn't exist so we get an error when we try to print it: {myVariable}\")"
   ]
  },
  {
   "cell_type": "code",
   "execution_count": null,
   "metadata": {},
   "outputs": [],
   "source": [
    "# remember variable names are case sensitive. These are two different variables\n",
    "myvariable = \"HELP!\"\n",
    "MYVARIABLE = \"help!\"\n",
    "\n",
    "print(f\"myvariable is: '{myvariable}'\")\n",
    "print(f\"MYVARIABLE is: '{MYVARIABLE}'\")\n",
    "print(f\"myVariable doesn't exist so we get an error when we try to print it: {myVariable}\")"
   ]
  },
  {
   "cell_type": "markdown",
   "metadata": {},
   "source": [
    "## How would you see what the value of thirdString is now?"
   ]
  },
  {
   "cell_type": "code",
   "execution_count": null,
   "metadata": {},
   "outputs": [],
   "source": [
    "# try it here"
   ]
  },
  {
   "cell_type": "markdown",
   "metadata": {},
   "source": [
    "## What else can be stored in a variable?"
   ]
  },
  {
   "cell_type": "code",
   "execution_count": null,
   "metadata": {},
   "outputs": [],
   "source": [
    "# numbers?\n",
    "myFavouriteNumber = 12\n",
    "myFavouriteNonInteger = 4.5\n",
    "\n",
    "# can I do maths with these?\n",
    "myFavouriteNonInteger - myFavouriteNumber"
   ]
  },
  {
   "cell_type": "markdown",
   "metadata": {},
   "source": [
    "How would you multiply myFavouriteNumber by myFavouriteNonInteger and show the output?\n",
    "\n",
    "(hint: [maths operators in Python](https://www.w3schools.com/python/gloss_python_arithmetic_operators.asp))"
   ]
  },
  {
   "cell_type": "code",
   "execution_count": null,
   "metadata": {},
   "outputs": [],
   "source": [
    "# try it here, output the result of the sum"
   ]
  },
  {
   "cell_type": "markdown",
   "metadata": {},
   "source": [
    "What about other types of data?"
   ]
  },
  {
   "cell_type": "code",
   "execution_count": null,
   "metadata": {},
   "outputs": [],
   "source": [
    "# Can we store a date? Yes, but we need to use some extra code for this...\n",
    "\n",
    "import datetime                 # This imports someone else's code. We'll cover this later in the course\n",
    "today = datetime.date.today()   # Here we use the other person's code. Again, we'll talk about this later in the course\n",
    "print(today)                    # This uses the \"print\" function. You'll try this soon :)"
   ]
  },
  {
   "cell_type": "markdown",
   "metadata": {},
   "source": [
    "## Your turn\n",
    "\n",
    "Try assigning a new variable here with a variable name you make up. The value of the variable should be your name."
   ]
  },
  {
   "cell_type": "code",
   "execution_count": null,
   "metadata": {},
   "outputs": [],
   "source": [
    "# try it here\n"
   ]
  },
  {
   "cell_type": "code",
   "execution_count": null,
   "metadata": {},
   "outputs": [],
   "source": [
    "# now let's use it. Change \"YOURVARIABLENAMEHERE\" to the name of your variable and run the cell\n",
    "print(f\"Hello, {YOURVARIABLENAMEHERE}!\")"
   ]
  },
  {
   "cell_type": "code",
   "execution_count": null,
   "metadata": {},
   "outputs": [],
   "source": [
    "# can you use print to say goodbye to yourself?"
   ]
  },
  {
   "cell_type": "markdown",
   "metadata": {},
   "source": [
    "## Be careful what you call your variables.\n",
    "\n",
    "A good variable name:\n",
    "- Is meaningful so you know what it stores\n",
    "- Is not a single letter\n",
    "- Follows the [basic rules](https://www.w3schools.com/python/python_variables_names.asp)\n",
    "    - Starts with a letter or underscore (`_`) character\n",
    "    - Contains alpha-numeric characters (letters and numbers) and underscores (`_`)\n",
    "    - Is not a [reserved word](https://www.w3schools.com/python/python_ref_keywords.asp)\n",
    "\n",
    "There are many other things that make a good variable name but most of them come down to style. It's best to be consistent in your style.\n"
   ]
  },
  {
   "cell_type": "code",
   "execution_count": null,
   "metadata": {},
   "outputs": [],
   "source": [
    "# what happens if we call a variable the name of a function\n",
    "print = \"I don't have a printer\""
   ]
  },
  {
   "cell_type": "code",
   "execution_count": null,
   "metadata": {},
   "outputs": [],
   "source": [
    "# can you now use the variable?\n",
    "print"
   ]
  },
  {
   "cell_type": "code",
   "execution_count": null,
   "metadata": {},
   "outputs": [],
   "source": [
    "# can you use the function? (try using print to print your name)\n",
    "print(print)"
   ]
  },
  {
   "cell_type": "markdown",
   "metadata": {},
   "source": [
    "The easiest way to recover from this error is to restart the runtime of your notebook session.\n",
    "\n",
    "`Runtime -> Restart session`\n",
    "\n",
    "![Restart the runtime](../Images/restartRuntime.png)"
   ]
  },
  {
   "cell_type": "code",
   "execution_count": null,
   "metadata": {},
   "outputs": [],
   "source": [
    "# what about a variable with the same name as a reserved word?\n",
    "\n",
    "# you can find the list of reserved words at: https://www.w3schools.com/python/python_ref_keywords.asp\n",
    "\n",
    "# pick one and try using it as a variable name\n"
   ]
  },
  {
   "cell_type": "markdown",
   "metadata": {},
   "source": [
    "Every variable in Python has a *type*. This is how Python knows what you can do with it.\n",
    "\n",
    "Common types that we will be using are:\n",
    "- Integers (*int*)\n",
    "  - Whole numbers\n",
    "- Floats (*float*)\n",
    "  - Numbers with a decimal part\n",
    "- Strings (*str*)\n",
    "  - Text made up of letters and numbers etc.\n",
    "- Booleans (*bool*)\n",
    "  - The values `True` and `False`\n",
    "\n",
    "There are many other types of variables in Python and you can even make up your own.\n",
    "\n",
    "To find out what `type` a variable is, use the function `type(variableThatYouWantToKnowTheTypeOf)`"
   ]
  },
  {
   "cell_type": "code",
   "execution_count": null,
   "metadata": {},
   "outputs": [],
   "source": [
    "# put different variable types in the function and see what the output is. Try it with each of the variable types mentioned above.\n",
    "type(5.35)"
   ]
  },
  {
   "cell_type": "markdown",
   "metadata": {},
   "source": [
    "The **type** of the variable defines what you can do with it. For example, it doesn't make sense to add a string and an integer so this produces an error."
   ]
  },
  {
   "cell_type": "code",
   "execution_count": null,
   "metadata": {},
   "outputs": [],
   "source": [
    "myString = \"My favourite number is: \"\n",
    "myFavouriteNumber = 4\n",
    "myString + myFavouriteNumber"
   ]
  },
  {
   "cell_type": "markdown",
   "metadata": {},
   "source": [
    "For some types, we can *temporarily* tell Python to treat them as another type. This is useful in the example above..."
   ]
  },
  {
   "cell_type": "code",
   "execution_count": null,
   "metadata": {},
   "outputs": [],
   "source": [
    "myString + str(myFavouriteNumber)"
   ]
  },
  {
   "cell_type": "code",
   "execution_count": null,
   "metadata": {},
   "outputs": [],
   "source": [
    "# by myFavouriteNumber is still an integer\n",
    "type(myFavouriteNumber)"
   ]
  },
  {
   "cell_type": "markdown",
   "metadata": {},
   "source": [
    "We won't be using this sort of conversion a lot but it can be useful to know it exists."
   ]
  }
 ],
 "metadata": {
  "kernelspec": {
   "display_name": "Python 3",
   "language": "python",
   "name": "python3"
  },
  "language_info": {
   "codemirror_mode": {
    "name": "ipython",
    "version": 3
   },
   "file_extension": ".py",
   "mimetype": "text/x-python",
   "name": "python",
   "nbconvert_exporter": "python",
   "pygments_lexer": "ipython3",
   "version": "3.11.9"
  }
 },
 "nbformat": 4,
 "nbformat_minor": 2
}
