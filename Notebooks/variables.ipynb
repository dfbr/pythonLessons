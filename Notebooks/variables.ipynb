{
 "cells": [
  {
   "cell_type": "code",
   "execution_count": null,
   "metadata": {},
   "outputs": [],
   "source": [
    "%%script python\n",
    "\n",
    "# the sentences below are not variables. Running this cell doesn't do anything\n",
    "\"This is a sentence.\"\n",
    "\"This is another sentence.\""
   ]
  },
  {
   "cell_type": "code",
   "execution_count": null,
   "metadata": {},
   "outputs": [],
   "source": [
    "# this assigns the sentence to the variable \"firstSentence\"\n",
    "firstSentence = \"This is a sentence.\"\n",
    "secondSentence = \"This is another sentence.\"\n",
    "\n",
    "# running this cell appears to do nothing but really it does!"
   ]
  },
  {
   "cell_type": "code",
   "execution_count": null,
   "metadata": {},
   "outputs": [],
   "source": [
    "# we can now use the variable in the rest of our script\n",
    "\n",
    "# if we put it in the cell, it will output the value of the variable\n",
    "firstSentence"
   ]
  },
  {
   "cell_type": "code",
   "execution_count": null,
   "metadata": {},
   "outputs": [],
   "source": [
    "# what else can we do with the variables?\n",
    "\n",
    "#add them?\n",
    "thirdSentence = firstSentence + secondSentence\n"
   ]
  },
  {
   "cell_type": "code",
   "execution_count": null,
   "metadata": {},
   "outputs": [],
   "source": [
    "# how would you see what the value of thirdSentence is now?\n",
    "\n"
   ]
  },
  {
   "cell_type": "code",
   "execution_count": null,
   "metadata": {},
   "outputs": [],
   "source": [
    "# what else can be stored in a variable?\n",
    "\n",
    "# numbers?\n",
    "myFavouriteNumber = 12\n",
    "myFavouriteNonInteger = 4.5\n",
    "\n",
    "# can I do maths with these?\n",
    "myFavouriteNonInteger - myFavouriteNumber\n",
    "\n",
    "# can you multiply myFavouriteNonInteger by myFavouriteNumber?\n",
    "\n"
   ]
  },
  {
   "cell_type": "code",
   "execution_count": null,
   "metadata": {},
   "outputs": [],
   "source": [
    "# other things? How about a date?\n",
    "import datetime\n",
    "today = datetime.date.today()\n",
    "print(today)"
   ]
  },
  {
   "cell_type": "code",
   "execution_count": null,
   "metadata": {},
   "outputs": [],
   "source": [
    "# try assigning a variable here with a variable name you make up. The value of the variable should be your name.\n"
   ]
  },
  {
   "cell_type": "code",
   "execution_count": null,
   "metadata": {},
   "outputs": [],
   "source": [
    "# now let's use it. Change \"YOURVARIABLENAMEHERE\" to the name of your variable and run the cell\n",
    "print(f\"Hello, {YOURVARIABLENAMEHERE}!\")"
   ]
  },
  {
   "cell_type": "code",
   "execution_count": null,
   "metadata": {},
   "outputs": [],
   "source": [
    "# remember variable names are case sensitive\n",
    "\n",
    "myvariable = \"HELP!\"\n",
    "MYVARIABLE = \"help!\"\n",
    "\n",
    "# can we compare these variables?\n"
   ]
  },
  {
   "cell_type": "code",
   "execution_count": null,
   "metadata": {},
   "outputs": [],
   "source": [
    "# what happens if we call a variable the name of a function\n",
    "print = \"I don't have a printer\""
   ]
  },
  {
   "cell_type": "code",
   "execution_count": null,
   "metadata": {},
   "outputs": [],
   "source": [
    "# can you now use it?\n",
    "print"
   ]
  },
  {
   "cell_type": "code",
   "execution_count": null,
   "metadata": {},
   "outputs": [],
   "source": [
    "print()"
   ]
  },
  {
   "cell_type": "code",
   "execution_count": null,
   "metadata": {},
   "outputs": [],
   "source": [
    "# what about a variable with the same name as a reserved word?\n",
    "\n",
    "# you can find the list of reserved words at: https://www.w3schools.com/python/python_ref_keywords.asp\n",
    "\n",
    "# pick one and try using it as a variable name\n"
   ]
  }
 ],
 "metadata": {
  "kernelspec": {
   "display_name": "Python 3",
   "language": "python",
   "name": "python3"
  },
  "language_info": {
   "codemirror_mode": {
    "name": "ipython",
    "version": 3
   },
   "file_extension": ".py",
   "mimetype": "text/x-python",
   "name": "python",
   "nbconvert_exporter": "python",
   "pygments_lexer": "ipython3",
   "version": "3.10.8"
  }
 },
 "nbformat": 4,
 "nbformat_minor": 2
}
