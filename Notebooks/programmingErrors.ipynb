{
 "cells": [
  {
   "cell_type": "markdown",
   "metadata": {},
   "source": [
    "# Investigating errors\n",
    "\n",
    "The code below has some common errors. For each cell, see if you can work out what the error is and correct it to provide the expected output."
   ]
  },
  {
   "cell_type": "code",
   "execution_count": null,
   "metadata": {},
   "outputs": [],
   "source": [
    "print = \"Hello, world!\"\n",
    "print(print)\n",
    "\n",
    "# Expected output is \"Hello, world!\""
   ]
  },
  {
   "cell_type": "code",
   "execution_count": null,
   "metadata": {},
   "outputs": [],
   "source": [
    "firstFivePrimeMinistersOfNorway = [\"Christian Michelsen\",\n",
    "                                 \"Jørgen Løvland\",\n",
    "                                 \"Gunnar Knudsen\",\n",
    "                                 \"Wollert Konow\",\n",
    "                                 \"Jens Bratlie\"]\n",
    "\n",
    "# print the first prime minister of Norway\n",
    "print(firstFivePrimeMinistersOfNorway[1])\n",
    "\n",
    "# Expected output is \"Christian Michelsen\""
   ]
  },
  {
   "cell_type": "code",
   "execution_count": null,
   "metadata": {},
   "outputs": [],
   "source": [
    "listOfNumbers = [1, 2, 3, 4, 5]\n",
    "\n",
    "# print the fifth element of the array (expected output is \"5\")\n",
    "print(listOfNumbers[5])"
   ]
  },
  {
   "cell_type": "code",
   "execution_count": null,
   "metadata": {},
   "outputs": [],
   "source": [
    "mySentence = \"Hello there class learners\"\n",
    "\n",
    "# print mySentence (expected output is \"Hello there class learners\")\n",
    "print(mysentence)"
   ]
  },
  {
   "cell_type": "code",
   "execution_count": null,
   "metadata": {},
   "outputs": [],
   "source": [
    "# set up some values in this cell for use below (no exercise here)\n",
    "myInteger = 1\n",
    "myFloat = 1.0\n",
    "zero = 0\n",
    "myString = \"Here is a string\""
   ]
  },
  {
   "cell_type": "code",
   "execution_count": null,
   "metadata": {},
   "outputs": [],
   "source": [
    "# add myInteger and myFloat (expected output is \"2.0\".) \n",
    "myInteger + myFloat\n",
    "\n",
    "# Why is it \"2.0\" and not \"2\""
   ]
  },
  {
   "cell_type": "code",
   "execution_count": null,
   "metadata": {},
   "outputs": [],
   "source": [
    "# make myString have the value \"1.0Here is a string\"\n",
    "myString = myFloat + myString"
   ]
  },
  {
   "cell_type": "code",
   "execution_count": null,
   "metadata": {},
   "outputs": [],
   "source": [
    "# if it's morning, make the variable coffee have the value true\n",
    "\n",
    "morning = True\n",
    "coffee = False\n",
    "if morning == True:\n",
    "    coffee == True\n",
    "\n",
    "print(f\"The value of coffee is '{coffee}'\")"
   ]
  },
  {
   "cell_type": "code",
   "execution_count": null,
   "metadata": {},
   "outputs": [],
   "source": [
    "# if it's not afternoon, make the variable coffee have the value false\n",
    "\n",
    "afternoon = \"False\"\n",
    "coffee = \"True\"\n",
    "if afternoon:\n",
    "    coffee = False\n",
    "else:\n",
    "    coffee = True\n",
    "\n",
    "print(f\"The value of afternoon is '{afternoon}'\")\n",
    "print(f\"The value of coffee is '{coffee}'\")"
   ]
  },
  {
   "cell_type": "code",
   "execution_count": null,
   "metadata": {},
   "outputs": [],
   "source": [
    "# expected output is \"My job is IT but I would rather be a hot air balloonist\"\n",
    "mySelf = {\"height\": 170,\n",
    "          \"hairColour\" : \"brown\",\n",
    "          \"actualJob\": \"IT\",\n",
    "          \"dreamJob\": \"hot air balloonist\"}\n",
    "\n",
    "print(f\"My job is {mySelf[actualJob]} but I would rather be a {mySelf[dreamJob]}\")"
   ]
  },
  {
   "cell_type": "code",
   "execution_count": null,
   "metadata": {},
   "outputs": [],
   "source": [
    "# what is the problem with defining the dictionary below?\n",
    "myDictionary = [\"book\": \"1984\",\n",
    "                \"Author\": \"George Orwell\",\n",
    "                \"puplicationYear\": 1949,\n",
    "                \"goodReadsScore\": 4.19]"
   ]
  },
  {
   "cell_type": "code",
   "execution_count": null,
   "metadata": {},
   "outputs": [],
   "source": [
    "# expected output is two lines containing \"The condition was true\"\n",
    "\n",
    "if True:\n",
    "    print(\"The condition was True\")\n",
    "   print(\"The condition was True\")"
   ]
  },
  {
   "cell_type": "code",
   "execution_count": null,
   "metadata": {},
   "outputs": [],
   "source": [
    "# what is happening with this? How would you fix the error\n",
    "import iql"
   ]
  }
 ],
 "metadata": {
  "kernelspec": {
   "display_name": "Python 3",
   "language": "python",
   "name": "python3"
  },
  "language_info": {
   "codemirror_mode": {
    "name": "ipython",
    "version": 3
   },
   "file_extension": ".py",
   "mimetype": "text/x-python",
   "name": "python",
   "nbconvert_exporter": "python",
   "pygments_lexer": "ipython3",
   "version": "3.10.8"
  }
 },
 "nbformat": 4,
 "nbformat_minor": 2
}
