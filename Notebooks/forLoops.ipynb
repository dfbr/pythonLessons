{
 "cells": [
  {
   "cell_type": "markdown",
   "metadata": {},
   "source": [
    "# For loops\n",
    "\n",
    "We use `for` loops to do the same thing for a list of items."
   ]
  },
  {
   "cell_type": "code",
   "execution_count": null,
   "metadata": {},
   "outputs": [],
   "source": [
    "# first we'll define a list of items\n",
    "myList = [1,2,3,4,5]\n",
    "\n",
    "# now we set up a loop\n",
    "for item in myList:\n",
    "    print(f\"{item} doubled is {item * 2}\")"
   ]
  },
  {
   "cell_type": "code",
   "execution_count": null,
   "metadata": {},
   "outputs": [],
   "source": [
    "# now we'll try with another list\n",
    "mySecondList = [1, 2, 3, \"four\", \"five\"]\n",
    "\n",
    "# now we set up a loop\n",
    "for item in mySecondList:\n",
    "    print(f\"{item} doubled is {item * 2}\")"
   ]
  },
  {
   "cell_type": "markdown",
   "metadata": {},
   "source": [
    "So we need to make sure the action is appropriate for the different items in the list (i.e. they are all the same type). \n",
    "\n",
    "As mentioned in the previous section, we could use a `continue` statement to skip an entry if it's not of the right type..."
   ]
  },
  {
   "cell_type": "code",
   "execution_count": null,
   "metadata": {},
   "outputs": [],
   "source": [
    "for item in mySecondList:\n",
    "    if isinstance(item,int):\n",
    "        print(f\"{item} doubled is {item * 2}\")\n",
    "    else:\n",
    "        continue"
   ]
  },
  {
   "cell_type": "markdown",
   "metadata": {},
   "source": [
    "### Let's try it out..."
   ]
  },
  {
   "cell_type": "code",
   "execution_count": null,
   "metadata": {},
   "outputs": [],
   "source": [
    "classMembers = [\"Emily\",\n",
    "                \"Emma\",\n",
    "                \"Charlotte\",\n",
    "                \"Charlie\",\n",
    "                \"Penny\"]"
   ]
  },
  {
   "cell_type": "markdown",
   "metadata": {},
   "source": [
    "Make a for loop that prints out a personalised welcome message to each of the class members"
   ]
  },
  {
   "cell_type": "code",
   "execution_count": null,
   "metadata": {},
   "outputs": [],
   "source": [
    "# first setup the for loop, \n",
    "# then give the instructions for what to do with each item"
   ]
  },
  {
   "cell_type": "markdown",
   "metadata": {},
   "source": [
    "Because a list can hold any data type so we can have a list of dictionaries.\n",
    "In the example below, print out a message telling each class member whether or not they have passed their exam."
   ]
  },
  {
   "cell_type": "code",
   "execution_count": null,
   "metadata": {},
   "outputs": [],
   "source": [
    "classMembers = [{'name': 'Emily', 'passed': True},\n",
    "                {'name': 'Emma', 'passed': False},\n",
    "                {'name': 'Charlotte', 'passed': True},\n",
    "                {'name': 'Charlie', 'passed': False},\n",
    "                {'name': 'Penny', 'passed': True}]\n",
    "\n",
    "# now make the for loop and process each item. \n",
    "# If the person has passed, print \"Congratulations {name}! You have passed\"\n",
    "# If the person did not passed print \"Try again, {name}\""
   ]
  }
 ],
 "metadata": {
  "kernelspec": {
   "display_name": "Python 3",
   "language": "python",
   "name": "python3"
  },
  "language_info": {
   "codemirror_mode": {
    "name": "ipython",
    "version": 3
   },
   "file_extension": ".py",
   "mimetype": "text/x-python",
   "name": "python",
   "nbconvert_exporter": "python",
   "pygments_lexer": "ipython3",
   "version": "3.10.8"
  }
 },
 "nbformat": 4,
 "nbformat_minor": 2
}
