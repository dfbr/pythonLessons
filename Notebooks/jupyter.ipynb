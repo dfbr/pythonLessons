{
 "cells": [
  {
   "cell_type": "markdown",
   "metadata": {},
   "source": [
    "# This is a Jupyter Notebook\n",
    "\n",
    "It allows you to interactively develop and run code mixed with text."
   ]
  },
  {
   "cell_type": "markdown",
   "metadata": {},
   "source": [
    "## This is a cell\n",
    "\n",
    "Cells can contain either text (in [markdown](https://www.markdownguide.org/basic-syntax/) format) or **code**. The code can be in any language that the platform supports. We will be using Python (version 3)"
   ]
  },
  {
   "cell_type": "markdown",
   "metadata": {},
   "source": [
    "You can add cells using the `+ CODE` or `+ TEXT` buttons. Other Jupyter notebook applications have similar buttons.\n",
    "\n",
    "Because Jupyter notebooks are tools for programmers, there are many, many keyboard shortcuts."
   ]
  },
  {
   "cell_type": "code",
   "execution_count": null,
   "metadata": {},
   "outputs": [],
   "source": [
    "# this is a code cell\n",
    "# it doesn't do anything until you press the play button\n",
    "\n",
    "# give it a go!\n",
    "age = 43"
   ]
  },
  {
   "cell_type": "markdown",
   "metadata": {},
   "source": [
    "That didn't seem to do anything. We'll see in a second what happened..."
   ]
  },
  {
   "cell_type": "markdown",
   "metadata": {},
   "source": [
    "## Kernel\n",
    "\n",
    "The code is executed by a **kernel** (Google also call this a **runtime**). \n",
    "\n",
    "Each different language has a kernel. In Colab you can change to the **R** kernel if you want to write code in the R programming language."
   ]
  },
  {
   "cell_type": "code",
   "execution_count": 10,
   "metadata": {},
   "outputs": [
    {
     "data": {
      "text/plain": [
       "43"
      ]
     },
     "execution_count": 10,
     "metadata": {},
     "output_type": "execute_result"
    }
   ],
   "source": [
    "# a code cell can have output.\n",
    "# by default it will only output the value of the last variable that you give it\n",
    "\n",
    "age\n",
    "\n",
    "# each variable is available to ALL cells once you've set it up."
   ]
  },
  {
   "cell_type": "code",
   "execution_count": null,
   "metadata": {},
   "outputs": [],
   "source": [
    "# Output doesn't have to be text. You can output many more things\n",
    "from IPython.display import Image\n",
    "Image(url='https://media3.giphy.com/media/v1.Y2lkPTc5MGI3NjExdWk1Y2FubGt1cmI5bXNncW1kdWhlNzBuc291NHV1aTE0dzdoemVuNCZlcD12MV9pbnRlcm5hbF9naWZfYnlfaWQmY3Q9Zw/3oKIPnAiaMCws8nOsE/giphy.webp')"
   ]
  },
  {
   "cell_type": "code",
   "execution_count": null,
   "metadata": {},
   "outputs": [],
   "source": [
    "# Another example\n",
    "import numpy as np\n",
    "import IPython.display as display\n",
    "from matplotlib import pyplot as plt\n",
    "import io\n",
    "import base64\n",
    "\n",
    "ys = 200 + np.random.randn(100)\n",
    "x = [x for x in range(len(ys))]\n",
    "\n",
    "fig = plt.figure(figsize=(4, 3), facecolor='w')\n",
    "plt.plot(x, ys, '-')\n",
    "plt.fill_between(x, ys, 195, where=(ys > 195), facecolor='g', alpha=0.6)\n",
    "plt.title(\"Sample Visualization\", fontsize=10)\n",
    "\n",
    "data = io.BytesIO()\n",
    "plt.savefig(data)\n",
    "image = F\"data:image/png;base64,{base64.b64encode(data.getvalue()).decode()}\"\n",
    "alt = \"Sample Visualization\"\n",
    "display.display(display.Markdown(F\"\"\"![{alt}]({image})\"\"\"))\n",
    "plt.close(fig)"
   ]
  },
  {
   "cell_type": "markdown",
   "metadata": {},
   "source": [
    "### You can access files on:\n",
    "\n",
    "Using Jupyter you can run any Python code you could on your computer, including accessing files on:\n",
    "- your computer, \n",
    "- Google drive, \n",
    "- Github and \n",
    "- anywhere you can reach on the Internet"
   ]
  },
  {
   "cell_type": "markdown",
   "metadata": {},
   "source": [
    "## How about just a Python script?\n",
    "\n",
    "You can convert you Notebook to a Python script that you can run as a standalone file.\n",
    "\n",
    "In Colab you select `File -> Download -> Download .py`. In other tools it may be called `Export` or `Convert`.\n",
    "\n",
    "You can then run your script in Python on your local computer although without some amendments visualisations may not work how you expect (a Jupyter notebook in some ways gives your Python super powers!)"
   ]
  }
 ],
 "metadata": {
  "kernelspec": {
   "display_name": "Python 3",
   "language": "python",
   "name": "python3"
  },
  "language_info": {
   "codemirror_mode": {
    "name": "ipython",
    "version": 3
   },
   "file_extension": ".py",
   "mimetype": "text/x-python",
   "name": "python",
   "nbconvert_exporter": "python",
   "pygments_lexer": "ipython3",
   "version": "3.10.8"
  }
 },
 "nbformat": 4,
 "nbformat_minor": 2
}
