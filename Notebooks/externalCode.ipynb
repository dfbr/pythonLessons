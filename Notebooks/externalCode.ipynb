{
 "cells": [
  {
   "cell_type": "code",
   "execution_count": null,
   "metadata": {},
   "outputs": [],
   "source": [
    "# first we import \"pandas\" with the shortened name \"pd\" (this just means we need to type less)\n",
    "import pandas as pd\n",
    "\n",
    "# now we use the function \"read_csv()\" from pandas to download a file with earthquake data in it\n",
    "# we want to use this data so we assign it to a variable called df (short for dataframe, a pandas convention)\n",
    "df = pd.read_csv('https://corgis-edu.github.io/corgis/datasets/csv/earthquakes/earthquakes.csv')\n",
    "\n",
    "# to show it we got the data, lets print the first record\n",
    "print(df.iloc[0])\n"
   ]
  },
  {
   "cell_type": "markdown",
   "metadata": {},
   "source": [
    "We can use the `datetime` package to work with dates and times.\n",
    "\n",
    "Let's use it to find out what day of the week you were born on. Edit below and use the information on [this page](https://www.w3schools.com/python/python_datetime.asp) to print the day of the week for a date you choose."
   ]
  },
  {
   "cell_type": "code",
   "execution_count": null,
   "metadata": {},
   "outputs": [],
   "source": [
    "# first setup our date\n",
    "date = 22\n",
    "month = 12\n",
    "year = 1909\n",
    "\n",
    "# now write your code to import the datetime package\n",
    "\n",
    "\n",
    "\n",
    "# now create a new datetime variable\n",
    "# find an example here: https://www.w3schools.com/python/python_datetime.asp\n",
    "# in the \"Creating Date Objects\" section\n",
    "\n",
    "\n",
    "# now print out the day of the week\n",
    "# find an example on the same web page in the strftime() method (strftime = string from time)\n",
    "\n"
   ]
  }
 ],
 "metadata": {
  "kernelspec": {
   "display_name": "Python 3",
   "language": "python",
   "name": "python3"
  },
  "language_info": {
   "codemirror_mode": {
    "name": "ipython",
    "version": 3
   },
   "file_extension": ".py",
   "mimetype": "text/x-python",
   "name": "python",
   "nbconvert_exporter": "python",
   "pygments_lexer": "ipython3",
   "version": "3.10.8"
  }
 },
 "nbformat": 4,
 "nbformat_minor": 2
}
