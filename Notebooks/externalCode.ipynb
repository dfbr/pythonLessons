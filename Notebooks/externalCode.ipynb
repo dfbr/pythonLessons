{
 "cells": [
  {
   "cell_type": "markdown",
   "metadata": {},
   "source": [
    "# External code\n",
    "\n",
    "Here we'll use external code packages to do things with Python."
   ]
  },
  {
   "cell_type": "markdown",
   "metadata": {},
   "source": [
    "The next example can be simply run"
   ]
  },
  {
   "cell_type": "code",
   "execution_count": null,
   "metadata": {},
   "outputs": [],
   "source": [
    "# first we import \"pandas\" with the shortened name \"pd\" (this just means we need to type less)\n",
    "import pandas as pd\n",
    "\n",
    "# now we use the function \"read_csv()\" from pandas to download a file with earthquake data in it\n",
    "# we want to use this data so we assign it to a variable called df (short for dataframe, a pandas convention)\n",
    "df = pd.read_csv('https://corgis-edu.github.io/corgis/datasets/csv/earthquakes/earthquakes.csv')\n",
    "\n",
    "# to show it we got the data, lets print the first record\n",
    "print(df.iloc[0])\n"
   ]
  },
  {
   "cell_type": "markdown",
   "metadata": {},
   "source": [
    "We can use the `datetime` package to work with dates and times.\n",
    "\n",
    "Let's use it to find out what day of the week you were born on. Edit below and use the information on [this page](https://www.w3schools.com/python/python_datetime.asp) to print the day of the week for a date you choose."
   ]
  },
  {
   "cell_type": "code",
   "execution_count": null,
   "metadata": {},
   "outputs": [],
   "source": [
    "# first setup our date\n",
    "date = 22\n",
    "month = 12\n",
    "year = 1909\n",
    "\n",
    "# now write your code to import the datetime package\n",
    "\n",
    "\n",
    "\n",
    "# now create a new datetime variable\n",
    "# find an example here: https://www.w3schools.com/python/python_datetime.asp\n",
    "# in the \"Creating Date Objects\" section\n",
    "\n",
    "\n",
    "# now print out the day of the week\n",
    "# find an example on the same web page in the strftime() method (strftime = string from time)\n",
    "\n"
   ]
  },
  {
   "cell_type": "markdown",
   "metadata": {},
   "source": [
    "In the next exercise you'll need to install a package into the environment using `!pip install <packagename>`"
   ]
  },
  {
   "cell_type": "code",
   "execution_count": null,
   "metadata": {},
   "outputs": [],
   "source": [
    "# the following code needs the package \"cartopy\" to be installed. Install the package then see what the output is.\n",
    "\n",
    "import cartopy.crs as ccrs\n",
    "import matplotlib.pyplot as plt\n",
    "\n",
    "ax = plt.axes(projection=ccrs.PlateCarree())\n",
    "ax.coastlines()\n",
    "\n",
    "# Save the plot by calling plt.savefig() BEFORE plt.show()\n",
    "plt.savefig('coastlines.pdf')\n",
    "plt.savefig('coastlines.png')\n",
    "\n",
    "plt.show()"
   ]
  }
 ],
 "metadata": {
  "kernelspec": {
   "display_name": "Python 3",
   "language": "python",
   "name": "python3"
  },
  "language_info": {
   "codemirror_mode": {
    "name": "ipython",
    "version": 3
   },
   "file_extension": ".py",
   "mimetype": "text/x-python",
   "name": "python",
   "nbconvert_exporter": "python",
   "pygments_lexer": "ipython3",
   "version": "3.10.8"
  }
 },
 "nbformat": 4,
 "nbformat_minor": 2
}
