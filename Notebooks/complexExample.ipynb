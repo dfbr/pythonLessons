{
 "cells": [
  {
   "cell_type": "markdown",
   "metadata": {},
   "source": [
    "# Static satellite images --> animated gifs\n",
    "\n",
    "The satellite images are available from [met.no](https://api.met.no/weatherapi/) as part of their API data. This means we can query them with Python and then process them as we wish ([within their guidance](https://api.met.no/doc/TermsOfService))."
   ]
  },
  {
   "cell_type": "markdown",
   "metadata": {},
   "source": [
    "First we need to get a list of the images that are available."
   ]
  },
  {
   "cell_type": "code",
   "execution_count": 12,
   "metadata": {},
   "outputs": [],
   "source": [
    "# we will use the \"requests\" package so we need to import it\n",
    "import requests\n",
    "\n",
    "# in line with their terms of service, we need to tell met.no who we are. Add your details below...\n",
    "headers = {\n",
    "    'User-Agent': 'ADD YOUR NAME HERE',\n",
    "    'From': 'ADD YOUR EMAIL ADDRESS HERE'  # This is another valid field\n",
    "}\n",
    "\n",
    "# next we use the \"get\" method to retrieve a list of the available images\n",
    "response = requests.get(\"https://api.met.no/weatherapi/geosatellite/1.4/available\",headers=headers)\n"
   ]
  },
  {
   "cell_type": "code",
   "execution_count": null,
   "metadata": {},
   "outputs": [],
   "source": [
    "# we can look at the list by seeing what the content of the response is\n",
    "print(response.content)"
   ]
  },
  {
   "cell_type": "markdown",
   "metadata": {},
   "source": [
    "What's that format? It's an `xml` file. To work on this in a script, we need a package that will be able to interpret it. \n",
    "\n",
    "There is no built-in package in Python to do this so we need to install one. \n",
    "\n",
    "Using google we can find some example code to try here: [geeksforgeeks.org](https://www.geeksforgeeks.org/python-xml-to-json/)"
   ]
  },
  {
   "cell_type": "code",
   "execution_count": null,
   "metadata": {},
   "outputs": [],
   "source": [
    "# install the package using\n",
    "\n",
    "# adding a `!` before the command runs it as if you were directly in a terminal\n",
    "!pip install xmltodict"
   ]
  },
  {
   "cell_type": "code",
   "execution_count": 15,
   "metadata": {},
   "outputs": [],
   "source": [
    "# now it's installed we can import it\n",
    "import xmltodict\n",
    "\n",
    "# and use it to convert the xml to a dictionary\n",
    "availableImages = xmltodict.parse(response.content)"
   ]
  },
  {
   "cell_type": "code",
   "execution_count": null,
   "metadata": {},
   "outputs": [],
   "source": [
    "# now let's look at the content again...\n",
    "availableImages"
   ]
  },
  {
   "cell_type": "markdown",
   "metadata": {},
   "source": [
    "We can look at this and see that there are different fields before the actual data. The data we want is in a dictionary called 'query' inside another dictionary called 'available'.\n",
    "To look at it we can use `print(availableImages['available']['query'])`, look at a single item with a `[]` suffix or see how many there are by putting a `len()` around it. Let's look at the first item."
   ]
  },
  {
   "cell_type": "code",
   "execution_count": null,
   "metadata": {},
   "outputs": [],
   "source": [
    "# that looks complicated, how about we just look at the first item...\n",
    "print(availableImages['available']['query'][0])"
   ]
  },
  {
   "cell_type": "markdown",
   "metadata": {},
   "source": [
    "We can see that even within a single item, there are two more dictionaries one of which contain an arrays of dictionaries, the second of which is a single item dictionary. \n",
    "\n",
    "This is metadata on each image that is available. \n",
    "\n",
    "Using the metadata we can start to categorise each image using loops. But to help we may wish to find out what different values are in each field."
   ]
  },
  {
   "cell_type": "code",
   "execution_count": null,
   "metadata": {},
   "outputs": [],
   "source": [
    "availableImages['available']['query'][0]"
   ]
  },
  {
   "cell_type": "code",
   "execution_count": 19,
   "metadata": {},
   "outputs": [],
   "source": [
    "# let's create an empty dictionary to put the lists in\n",
    "fields = {}\n",
    "\n",
    "# now we loop through the list of images\n",
    "for image in availableImages['available']['query']:\n",
    "\n",
    "    # and within each image we want to look at the parameters\n",
    "    for detail in image['parameter']:\n",
    "        \n",
    "        # if we haven't seen the key before, \n",
    "        # add it as an array to the fields dictionary\n",
    "        # with the value as the first element\n",
    "        if detail['name'] not in fields.keys():\n",
    "            fields[detail['name']] = [detail['value']]\n",
    "\n",
    "        # if we have seen it before, add the value if it's\n",
    "        # not already in the array\n",
    "        elif detail['value'] not in fields[detail['name']]:\n",
    "            fields[detail['name']].append(detail['value'])\n",
    "\n",
    "    "
   ]
  },
  {
   "cell_type": "markdown",
   "metadata": {},
   "source": [
    "Now we can look at the different fields either individually or as a group"
   ]
  },
  {
   "cell_type": "code",
   "execution_count": null,
   "metadata": {},
   "outputs": [],
   "source": [
    "print(fields.keys()) # to show all of the keys\n",
    "print(fields['area']) # to see the values in the 'area' dictionary\n",
    "print(fields['size']) # to see the values in the 'size' area\n",
    "print(fields['type']) # to see the values in the 'type' area"
   ]
  },
  {
   "cell_type": "markdown",
   "metadata": {},
   "source": [
    "We can now start categorising. There are images of:\n",
    "- Mediterranean\n",
    "- Europe\n",
    "- Africa\n",
    "- Global\n",
    "- Atlantic_ocean\n",
    "\n",
    "We have images of either size:\n",
    "- normal, or\n",
    "- small\n",
    "\n",
    "For our task, we'll only want to use the small size images (it's quicker and we're about to hit their server with 30 requests for all their images)\n",
    "\n",
    "The images are of either the:\n",
    "- visible, or\n",
    "- infrared spectrum\n",
    "\n",
    "All of this information is, of course, available in the [API documentation](https://api.met.no/weatherapi/geosatellite/1.4/documentation). It's a good idea to read the documentation!\n",
    "\n",
    "If we want to download all of these images, we should put them into a directory structure so that we can easily browse them. For this, we'll need to be able to create directories. We could do this manually, or we could use Python :)"
   ]
  },
  {
   "cell_type": "code",
   "execution_count": 22,
   "metadata": {},
   "outputs": [],
   "source": [
    "\n",
    "import os\n",
    "\n",
    "os.mkdir(\"satelliteImages\")\n",
    "for area in fields['area']:\n",
    "    os.mkdir(f\"./satelliteImages/{area}\")\n",
    "    for spectrum in fields['type']:\n",
    "        os.mkdir(f\"./satelliteImages/{area}/{spectrum}\")\n"
   ]
  },
  {
   "cell_type": "markdown",
   "metadata": {},
   "source": [
    "If we run the cell above a second time, we get an error. To be robust we should check to see if the directories already exist before we create them with something like `if not os.path.exists(path)`"
   ]
  },
  {
   "cell_type": "markdown",
   "metadata": {},
   "source": [
    "Next, we want to download all of the images. For this, we're going to have a big loop again..."
   ]
  },
  {
   "cell_type": "code",
   "execution_count": 23,
   "metadata": {},
   "outputs": [],
   "source": [
    "import shutil\n",
    "from time import sleep\n",
    "\n",
    "# here I've restricted the loop to only the first 100 images so it doesn't take too long\n",
    "# if you want to do it for all images, remove the \"[0:100]\"\n",
    "for image in availableImages['available']['query'][0:100]: \n",
    "    # for ease let us make some shorthand variable names\n",
    "    area = image['parameter'][0]['value']\n",
    "    imageSize = image['parameter'][1]['value']\n",
    "    imageDate = image['parameter'][2]['value'].replace(\":\",\"\")\n",
    "    imageType = image['parameter'][3]['value']\n",
    "    imageUrl = image['uri']\n",
    "\n",
    "    # print(imageUrl)\n",
    "    # now we download the image, but only the larger images...\n",
    "    if imageSize == \"small\":\n",
    "\n",
    "        # if we run this often, we might already have the file, so let's check for that first...\n",
    "        filename = f'satelliteImages/{area}/{imageType}/{imageDate}.png'\n",
    "        if not os.path.exists(filename):\n",
    "            response = requests.get(imageUrl, stream=True,headers=headers)\n",
    "            # print(response.status_code)\n",
    "\n",
    "            if response.status_code == 200:                \n",
    "                with open(filename, 'wb') as out_file:\n",
    "                    response.raw.decode_content = True\n",
    "                    shutil.copyfileobj(response.raw, out_file)  \n",
    "            \n",
    "            # met.no don't like too many requests at a time so\n",
    "            # we make our program wait half a second after each download\n",
    "            sleep(0.55)"
   ]
  },
  {
   "cell_type": "markdown",
   "metadata": {},
   "source": [
    "With all the files downloaded, we now want to make our animated gif. \n",
    "\n",
    "We want to do this for every directory that we have made so we can make a function to avoid having to repeat ourselves..."
   ]
  },
  {
   "cell_type": "code",
   "execution_count": 24,
   "metadata": {},
   "outputs": [],
   "source": [
    "import glob\n",
    "from PIL import Image\n",
    "\n",
    "def makeAnimatedGifFromPngsInDirectory(directory):\n",
    "    # first we get a list of all the png images in the directory\n",
    "    # because of the date format, we know they will be returned\n",
    "    # in date order. This is _handy_!\n",
    "    pngImages = glob.glob(os.path.join(directory, '*.png'))\n",
    "\n",
    "    if len(pngImages) > 0:\n",
    "        # now create one frame for each PNG image\n",
    "        frames = []\n",
    "\n",
    "        for i in pngImages:\n",
    "            new_frame = Image.open(i)\n",
    "            frames.append(new_frame)\n",
    "\n",
    "        # Save into a GIF file that loops forever\n",
    "        animatedGifFilename = f'{directory}/animated.gif'\n",
    "        frames[0].save(animatedGifFilename, format='GIF',\n",
    "                    append_images=frames[1:],\n",
    "                    save_all=True,\n",
    "                    duration=300, loop=0)\n",
    "        return animatedGifFilename"
   ]
  },
  {
   "cell_type": "code",
   "execution_count": null,
   "metadata": {},
   "outputs": [],
   "source": [
    "# now we can run our function on each of our directories.\n",
    "directories = []\n",
    "for area in fields['area']:\n",
    "    for spectrum in fields['type']:\n",
    "        directories.append(f\"./satelliteImages/{area}/{spectrum}\")\n",
    "\n",
    "for directory in directories:\n",
    "    print(makeAnimatedGifFromPngsInDirectory(directory))"
   ]
  },
  {
   "cell_type": "markdown",
   "metadata": {},
   "source": [
    "How about making it easier to view the images? A web page would be useful for that. So let's make one...\n",
    "\n",
    "A web page uses HTML to show words and images. We can make a very simple web page..."
   ]
  },
  {
   "cell_type": "code",
   "execution_count": 26,
   "metadata": {},
   "outputs": [],
   "source": [
    "import datetime\n",
    "htmlHeader = f\"\"\"\n",
    "<html>\n",
    "  <head>\n",
    "    <title>Satellite Images</title>\n",
    "  </head>\n",
    "  <body>\n",
    "  <h1>Satellite images from Met.no, updated {datetime.datetime.now().strftime('%A %d %B %Y, %H:%M:%S')}</h1>\n",
    "\"\"\"\n",
    "htmlFooter = \"\"\"\n",
    "  </body>\n",
    "</html>\n",
    "\"\"\"\n",
    "htmlContent = \"\"\n",
    "\n",
    "for area in fields['area']:\n",
    "    for spectrum in fields['type']:\n",
    "        if os.path.exists(f\"satelliteImages/{area}/{spectrum}/animated.gif\"):\n",
    "          htmlContent += f\"\"\"\n",
    "          <h2>{area} image in {spectrum} spectrum</h2>\n",
    "          <center>\n",
    "            <img src=\"{area}/{spectrum}/animated.gif\" alt=\"{area} image in {spectrum} spectrum\">\n",
    "          </center>\n",
    "          <br />\n",
    "          \"\"\"\n",
    "\n",
    "# now we want to combine our html\n",
    "overallHtml = htmlHeader + htmlContent + htmlFooter\n",
    "\n",
    "# then write it to a file\n",
    "with open(\"satelliteImages/index.html\", \"w\") as htmlFile:\n",
    "    htmlFile.write(overallHtml)"
   ]
  }
 ],
 "metadata": {
  "kernelspec": {
   "display_name": "Python 3",
   "language": "python",
   "name": "python3"
  },
  "language_info": {
   "codemirror_mode": {
    "name": "ipython",
    "version": 3
   },
   "file_extension": ".py",
   "mimetype": "text/x-python",
   "name": "python",
   "nbconvert_exporter": "python",
   "pygments_lexer": "ipython3",
   "version": "3.10.8"
  }
 },
 "nbformat": 4,
 "nbformat_minor": 2
}
