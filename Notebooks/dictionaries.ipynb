{
 "cells": [
  {
   "cell_type": "markdown",
   "metadata": {},
   "source": [
    "# Dictionaries\n",
    "\n",
    "Dictionaries collect together values that belong together. \n",
    "\n",
    "The general syntax is:\n",
    "\n",
    "```\n",
    "dictionaryName = {\"key1\": \"value1\",\n",
    "                  \"key2\": \"value2\",\n",
    "                  ...,\n",
    "                  \"keyN\": \"valueN\"}\n",
    "```\n",
    "\n",
    "The names of the properties are called the `keys` and the value of each property is called the `value`."
   ]
  },
  {
   "cell_type": "markdown",
   "metadata": {},
   "source": [
    "Create your own dictionary..."
   ]
  },
  {
   "cell_type": "code",
   "execution_count": null,
   "metadata": {},
   "outputs": [],
   "source": [
    "# edit this definition to describe yourself (or a fictional version of yourself)\n",
    "mySelf = {\"firstName\": \"David\",\n",
    "          \"lastName\": \"Rowan\",\n",
    "          \"age\": 43,\n",
    "          \"hairColour\": \"brown\",\n",
    "          \"height\": 176}\n"
   ]
  },
  {
   "cell_type": "markdown",
   "metadata": {},
   "source": [
    "You access the value of a key you use square brackets with the name of the key inside them, e.g.: `mySelf['firstName']`"
   ]
  },
  {
   "cell_type": "code",
   "execution_count": null,
   "metadata": {},
   "outputs": [],
   "source": [
    "# to access the value of a key you use square brackets\n",
    "print(f\"My height is {mySelf['height']}\")"
   ]
  },
  {
   "cell_type": "code",
   "execution_count": null,
   "metadata": {},
   "outputs": [],
   "source": [
    "# try printing your last name"
   ]
  },
  {
   "cell_type": "markdown",
   "metadata": {},
   "source": [
    "Just like other variables, you can assign a new value to a key."
   ]
  },
  {
   "cell_type": "code",
   "execution_count": null,
   "metadata": {},
   "outputs": [],
   "source": [
    "# You decide to colour your hair. Change the value to your new colour."
   ]
  },
  {
   "cell_type": "markdown",
   "metadata": {},
   "source": [
    "You can also add new keys to an object just as if it was a new variable, e.g.: `mySelf['pet'] = \"dog\"`"
   ]
  },
  {
   "cell_type": "code",
   "execution_count": null,
   "metadata": {},
   "outputs": [],
   "source": [
    "# add a new key with the value of your favourite food"
   ]
  },
  {
   "cell_type": "code",
   "execution_count": null,
   "metadata": {},
   "outputs": [],
   "source": [
    "# If you have more than one favourite foods, how could you store them all in your dictionary?"
   ]
  },
  {
   "cell_type": "markdown",
   "metadata": {},
   "source": [
    "It's possible to remove keys from a dictionary in a few different ways...\n",
    "\n",
    "`del mySelf['pet']`\n",
    "\n",
    "or\n",
    "\n",
    "`mySelf.pop('hairColour')`\n"
   ]
  },
  {
   "cell_type": "code",
   "execution_count": null,
   "metadata": {},
   "outputs": [],
   "source": [
    "# We no longer want to store ages. Remove your age from the dictionary"
   ]
  },
  {
   "cell_type": "code",
   "execution_count": null,
   "metadata": {},
   "outputs": [],
   "source": [
    "# how would you print out details about yourself?"
   ]
  },
  {
   "cell_type": "markdown",
   "metadata": {},
   "source": [
    "Which keys do I have in my dictionary?\n",
    "\n",
    "To list the keys that exist in a dictionary, you use the `.keys()` method."
   ]
  },
  {
   "cell_type": "code",
   "execution_count": null,
   "metadata": {},
   "outputs": [],
   "source": [
    "# list all of the keys in the mySelf dictionary"
   ]
  }
 ],
 "metadata": {
  "kernelspec": {
   "display_name": "Python 3",
   "language": "python",
   "name": "python3"
  },
  "language_info": {
   "codemirror_mode": {
    "name": "ipython",
    "version": 3
   },
   "file_extension": ".py",
   "mimetype": "text/x-python",
   "name": "python",
   "nbconvert_exporter": "python",
   "pygments_lexer": "ipython3",
   "version": "3.10.8"
  }
 },
 "nbformat": 4,
 "nbformat_minor": 2
}
