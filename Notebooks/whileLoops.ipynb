{
 "cells": [
  {
   "cell_type": "markdown",
   "metadata": {},
   "source": [
    "# While loops\n",
    "\n",
    "The basic syntax of a `while` loop is:\n",
    "\n",
    "```python\n",
    "while condition:\n",
    "    do this\n",
    "```\n",
    "\n",
    "When the condition is no longer True, we carry on with our script."
   ]
  },
  {
   "cell_type": "code",
   "execution_count": 2,
   "metadata": {},
   "outputs": [
    {
     "name": "stdout",
     "output_type": "stream",
     "text": [
      "It's too loud at 55. Turn it down\n",
      "It's too loud at 54. Turn it down\n",
      "It's too loud at 53. Turn it down\n",
      "It's too loud at 52. Turn it down\n",
      "It's too loud at 51. Turn it down\n",
      "When the condition is no longer true, we continue with our script\n"
     ]
    }
   ],
   "source": [
    "volume = 55\n",
    "\n",
    "while volume > 50:\n",
    "    print(f\"It's too loud at {volume}. Turn it down\")\n",
    "    volume -= 1\n",
    "print(\"When the condition is no longer true, we continue with our script\")"
   ]
  },
  {
   "cell_type": "markdown",
   "metadata": {},
   "source": [
    "## Try it yourself\n",
    "\n",
    "In the cell below, construct a while loop that:\n",
    "- tests to see if there are more than 10 items in myList \n",
    "  - use `len(myList)` to find out how many items are in the list\n",
    "- if there are not, adds another item\n",
    "  - use `myList.append(\"new item at the end\")` to add an item at the end of the list\n",
    "- when the loop is exited (the condition is met), print the list"
   ]
  },
  {
   "cell_type": "code",
   "execution_count": 6,
   "metadata": {},
   "outputs": [
    {
     "name": "stdout",
     "output_type": "stream",
     "text": [
      "myList contains 4 elements\n",
      "[1, 2, 'banana', True]\n"
     ]
    }
   ],
   "source": [
    "myList = [1, 2, \"banana\", True]\n",
    "print(f\"myList contains {len(myList)} elements\")\n",
    "print(myList)\n",
    "\n",
    "# now add your while loop\n"
   ]
  }
 ],
 "metadata": {
  "kernelspec": {
   "display_name": "Python 3",
   "language": "python",
   "name": "python3"
  },
  "language_info": {
   "codemirror_mode": {
    "name": "ipython",
    "version": 3
   },
   "file_extension": ".py",
   "mimetype": "text/x-python",
   "name": "python",
   "nbconvert_exporter": "python",
   "pygments_lexer": "ipython3",
   "version": "3.10.8"
  }
 },
 "nbformat": 4,
 "nbformat_minor": 2
}
