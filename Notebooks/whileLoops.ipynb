{
 "cells": [
  {
   "cell_type": "markdown",
   "metadata": {},
   "source": [
    "# While loops\n",
    "\n",
    "The basic syntax of a `while` loop is:\n",
    "\n",
    "```python\n",
    "while condition:\n",
    "    do this\n",
    "```\n",
    "\n",
    "When the condition is no longer True, we carry on with our script."
   ]
  },
  {
   "cell_type": "code",
   "execution_count": null,
   "metadata": {},
   "outputs": [],
   "source": [
    "volume = 55\n",
    "\n",
    "while volume > 50:\n",
    "    print(f\"It's too loud at {volume}. Turn it down\")\n",
    "    volume -= 1\n",
    "print(\"The condition is no longer true, we continue with our script\")"
   ]
  },
  {
   "cell_type": "markdown",
   "metadata": {},
   "source": [
    "## Try it yourself\n",
    "\n",
    "In the cell below, construct a while loop that:\n",
    "- tests to see if there are more than 10 items in myList \n",
    "  - use `len(myList)` to find out how many items are in the list\n",
    "- if there are not, adds another item\n",
    "  - use `myList.append(\"new item at the end\")` to add an item at the end of the list\n",
    "- when the loop is exited (the condition is met), print the list"
   ]
  },
  {
   "cell_type": "code",
   "execution_count": null,
   "metadata": {},
   "outputs": [],
   "source": [
    "myList = [1, 2, \"banana\", True]\n",
    "\n",
    "\n",
    "# add your while loop here\n",
    "\n",
    "\n",
    "print(f\"myList contains {len(myList)} elements\")\n",
    "print(myList)"
   ]
  },
  {
   "cell_type": "markdown",
   "metadata": {},
   "source": [
    "We can also use a while loop to do something forever. What condition would you use for this?"
   ]
  },
  {
   "cell_type": "code",
   "execution_count": null,
   "metadata": {},
   "outputs": [],
   "source": [
    "# write a never ending while loop here by replacing the condition...\n",
    "while putYourConditionHere:\n",
    "    print(\"Programming is fun\")"
   ]
  },
  {
   "cell_type": "markdown",
   "metadata": {},
   "source": [
    "## Breaking out of a never ending while loop\n",
    "\n",
    "You can also break out of a while loop (like the never ending loop above) using the `break` command.\n",
    "\n",
    "Try it below. Break out of the loop if `myNumber == 5`"
   ]
  },
  {
   "cell_type": "code",
   "execution_count": null,
   "metadata": {},
   "outputs": [],
   "source": [
    "# amend the loop below so that it exits the loop if myNumber is five\n",
    "myNumber = 0\n",
    "while myNumber < 10000000:\n",
    "    print(f\"myNumber is {myNumber}\")\n",
    "    myNumber += 1\n",
    "\n",
    "print(\"You have broken out of the loop\")"
   ]
  },
  {
   "cell_type": "markdown",
   "metadata": {},
   "source": [
    "## Skipping one run of the loop\n",
    "\n",
    "There may also be some special occasions where you want to run a loop except if certain conditions are met. Here we can use the keyword `continue` to skip to the end of the loop and start again. We can use this to print all numbers unless they are a multiple of 7."
   ]
  },
  {
   "cell_type": "code",
   "execution_count": null,
   "metadata": {},
   "outputs": [],
   "source": [
    "# can you explain what the following loop does?\n",
    "\n",
    "myNumber = 0\n",
    "while True:\n",
    "    myNumber += 1\n",
    "    if (myNumber % 7) == 0: # read about the % operator at https://www.geeksforgeeks.org/what-is-a-modulo-operator-in-python/\n",
    "        continue\n",
    "    else:\n",
    "        print(f\"myNumber is {myNumber}\")"
   ]
  },
  {
   "cell_type": "markdown",
   "metadata": {},
   "source": [
    "### Why would we skip one run of a loop?\n",
    "\n",
    "One common reason is if we're performing a calculation on a set of values. We could check that the value is of the type we expect (for example that it is an integer) and if it's not, skip the operation for that value (this is more common in a `for` loop which we'll talk about next)"
   ]
  }
 ],
 "metadata": {
  "kernelspec": {
   "display_name": "Python 3",
   "language": "python",
   "name": "python3"
  },
  "language_info": {
   "codemirror_mode": {
    "name": "ipython",
    "version": 3
   },
   "file_extension": ".py",
   "mimetype": "text/x-python",
   "name": "python",
   "nbconvert_exporter": "python",
   "pygments_lexer": "ipython3",
   "version": "3.10.8"
  }
 },
 "nbformat": 4,
 "nbformat_minor": 2
}
